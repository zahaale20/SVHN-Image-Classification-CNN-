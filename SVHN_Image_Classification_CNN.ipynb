{
  "cells": [
    {
      "cell_type": "markdown",
      "metadata": {
        "id": "u_Lc6ClLKdvo"
      },
      "source": [
        "## CNN Image classifier for the SVHN dataset\n"
      ]
    },
    {
      "cell_type": "code",
      "execution_count": null,
      "metadata": {
        "id": "JaO67dzKKdvp"
      },
      "outputs": [],
      "source": [
        "import os\n",
        "import zipfile\n",
        "import pandas as pd\n",
        "import numpy as np\n",
        "import matplotlib.pyplot as plt\n",
        "import tensorflow as tf\n",
        "import scipy.io"
      ]
    },
    {
      "cell_type": "markdown",
      "metadata": {
        "id": "PmCbwMNKKdvq"
      },
      "source": [
        "[SVHN dataset](http://ufldl.stanford.edu/housenumbers/). This is an image dataset of over 600,000 digit images in all, and is a harder dataset than MNIST as the numbers appear in the context of natural scene images. SVHN is obtained from house numbers in Google Street View images.\n",
        "\n",
        "* Y. Netzer, T. Wang, A. Coates, A. Bissacco, B. Wu and A. Y. Ng. \"Reading Digits in Natural Images with Unsupervised Feature Learning\". NIPS Workshop on Deep Learning and Unsupervised Feature Learning, 2011.\n",
        "\n",
        "The goal is to develop an end-to-end workflow for building, training, validating, evaluating and saving a neural network that classifies a real-world image into one of ten classes.\n",
        "\n",
        "This uses the pre-cropped datasets in Format 2."
      ]
    },
    {
      "cell_type": "markdown",
      "metadata": {
        "id": "V8N3gHZIKdvq"
      },
      "source": [
        "Both `train` and `test` are dictionaries with keys `X` and `y` for the input images and labels respectively."
      ]
    },
    {
      "cell_type": "markdown",
      "metadata": {
        "id": "1SxN4Qa7Kdvq"
      },
      "source": [
        "## Inspect and preprocess the dataset\n",
        "* Extract the training and testing images and labels separately from the train and test dictionaries loaded for you.\n",
        "* Select a random sample of images and corresponding labels from the dataset (at least 10), and display them in a figure.\n",
        "* Convert the training and test images to grayscale by taking the average across all colour channels for each pixel. _Hint: retain the channel dimension, which will now have size 1._\n",
        "* Select a random sample of the grayscale images and corresponding labels from the dataset (at least 10), and display them in a figure."
      ]
    },
    {
      "cell_type": "markdown",
      "metadata": {
        "id": "By918h0d1Jy5"
      },
      "source": [
        "# Extract the training and testing images and labels separately from the train and test dictionaries loaded for you."
      ]
    },
    {
      "cell_type": "code",
      "execution_count": null,
      "metadata": {
        "colab": {
          "base_uri": "https://localhost:8080/"
        },
        "id": "wm-CRmuErdcq",
        "outputId": "8784d01b-7162-45e1-f731-b1a0df9f10c0"
      },
      "outputs": [
        {
          "output_type": "stream",
          "name": "stdout",
          "text": [
            "Mounted at /content/drive\n"
          ]
        }
      ],
      "source": [
        "# Mount google drive\n",
        "from google.colab import drive\n",
        "drive.mount('/content/drive')"
      ]
    },
    {
      "cell_type": "code",
      "execution_count": null,
      "metadata": {
        "id": "X974AX8nKdvq",
        "scrolled": true
      },
      "outputs": [],
      "source": [
        "# Unzip SVHN data\n",
        "zip_path = \"/content/drive/My Drive/Seattle University/CPSC5610 - Artificial Intelligence/Data/svnh_data.zip\"\n",
        "extract_root = \"/content\"\n",
        "\n",
        "with zipfile.ZipFile(zip_path, 'r') as zip_ref:\n",
        "    zip_ref.extractall(extract_root)"
      ]
    },
    {
      "cell_type": "code",
      "execution_count": null,
      "metadata": {
        "id": "nU8c8FwBJ73y"
      },
      "outputs": [],
      "source": [
        "# Load .mat files\n",
        "data_directory = os.path.join(extract_root, \"svnh_data\")\n",
        "train = scipy.io.loadmat(os.path.join(data_directory, \"train_32x32.mat\"))\n",
        "test = scipy.io.loadmat(os.path.join(data_directory, \"test_32x32.mat\"))\n",
        "extra = scipy.io.loadmat(os.path.join(data_directory, \"extra_32x32.mat\"))"
      ]
    },
    {
      "cell_type": "code",
      "execution_count": null,
      "metadata": {
        "id": "4qweGZLNF-VU"
      },
      "outputs": [],
      "source": [
        "# Subset extra dataset\n",
        "#subset_size = 200000\n",
        "#indices = np.random.choice(extra['X'].shape[-1], subset_size, replace=False)\n",
        "#extra_X_subset = extra['X'][:, :, :, indices]\n",
        "#extra_y_subset = extra['y'][indices]"
      ]
    },
    {
      "cell_type": "code",
      "execution_count": null,
      "metadata": {
        "id": "FAEF_IEYyhyM"
      },
      "outputs": [],
      "source": [
        "# Transpose images from (32, 32, 3, N) to (N, 32, 32, 3)\n",
        "train_images = train['X'].transpose(3, 0, 1, 2) # from (32, 32, 3, 73257) to (73257, 32, 32, 3)\n",
        "test_images = test['X'].transpose(3, 0, 1, 2) # from (32, 32, 3, 26032) to (26032, 32, 32, 3)\n",
        "extra_images = extra['X'].transpose(3, 0, 1, 2) # from (32, 32, 3, 531131) to (531131, 32, 32, 3)"
      ]
    },
    {
      "cell_type": "code",
      "execution_count": null,
      "metadata": {
        "id": "FmHQ-EnWKPGq"
      },
      "outputs": [],
      "source": [
        "# Flatten labels\n",
        "train_labels = train['y'].flatten() # (73257,)\n",
        "test_labels = test['y'].flatten() # (26032,)\n",
        "extra_labels = extra['y'].flatten() # (531131,)"
      ]
    },
    {
      "cell_type": "code",
      "execution_count": null,
      "metadata": {
        "colab": {
          "base_uri": "https://localhost:8080/"
        },
        "id": "7twtnEtn5AOz",
        "outputId": "982a6d7e-faf4-4c8c-c4e5-83ccee986922"
      },
      "outputs": [
        {
          "output_type": "execute_result",
          "data": {
            "text/plain": [
              "(73257, 32, 32, 3)"
            ]
          },
          "metadata": {},
          "execution_count": 8
        }
      ],
      "source": [
        "train_images.shape # samples, height, width, channels"
      ]
    },
    {
      "cell_type": "code",
      "execution_count": null,
      "metadata": {
        "colab": {
          "base_uri": "https://localhost:8080/"
        },
        "id": "jZZEfWuo5iPx",
        "outputId": "46b1fe3a-c911-45d8-8a20-4258a81858f1"
      },
      "outputs": [
        {
          "output_type": "execute_result",
          "data": {
            "text/plain": [
              "(73257,)"
            ]
          },
          "metadata": {},
          "execution_count": 9
        }
      ],
      "source": [
        "train_labels.shape # samples"
      ]
    },
    {
      "cell_type": "code",
      "execution_count": null,
      "metadata": {
        "colab": {
          "base_uri": "https://localhost:8080/"
        },
        "id": "G5joWnQYAtHN",
        "outputId": "46c8fa16-2232-4ba7-dea8-98259a6efcf4"
      },
      "outputs": [
        {
          "output_type": "execute_result",
          "data": {
            "text/plain": [
              "(26032, 32, 32, 3)"
            ]
          },
          "metadata": {},
          "execution_count": 10
        }
      ],
      "source": [
        "test_images.shape # samples, height, width, channels"
      ]
    },
    {
      "cell_type": "code",
      "execution_count": null,
      "metadata": {
        "colab": {
          "base_uri": "https://localhost:8080/"
        },
        "id": "_BZdi4inAv4K",
        "outputId": "47674883-1a33-45ce-f7de-468703ee718d"
      },
      "outputs": [
        {
          "output_type": "execute_result",
          "data": {
            "text/plain": [
              "(26032,)"
            ]
          },
          "metadata": {},
          "execution_count": 11
        }
      ],
      "source": [
        "test_labels.shape # samples"
      ]
    },
    {
      "cell_type": "code",
      "execution_count": null,
      "metadata": {
        "colab": {
          "base_uri": "https://localhost:8080/"
        },
        "id": "0iN5XRtBAxrX",
        "outputId": "8f2463b8-8fd9-4dd3-c402-02a2cb2816dd"
      },
      "outputs": [
        {
          "output_type": "execute_result",
          "data": {
            "text/plain": [
              "(531131, 32, 32, 3)"
            ]
          },
          "metadata": {},
          "execution_count": 12
        }
      ],
      "source": [
        "extra_images.shape # samples, height, width, channels"
      ]
    },
    {
      "cell_type": "code",
      "execution_count": null,
      "metadata": {
        "colab": {
          "base_uri": "https://localhost:8080/"
        },
        "id": "RxgNPIRDAy_X",
        "outputId": "92097fa2-c0f7-4400-ce73-a01611784279"
      },
      "outputs": [
        {
          "output_type": "execute_result",
          "data": {
            "text/plain": [
              "(531131,)"
            ]
          },
          "metadata": {},
          "execution_count": 13
        }
      ],
      "source": [
        "extra_labels.shape # samples"
      ]
    },
    {
      "cell_type": "markdown",
      "metadata": {
        "id": "En1hCvEmFVQC"
      },
      "source": [
        "Examine a single image"
      ]
    },
    {
      "cell_type": "code",
      "execution_count": null,
      "metadata": {
        "id": "0nHi19dbDyDd"
      },
      "outputs": [],
      "source": [
        "single_image = train_images[25]\n",
        "single_label = train_labels[25]"
      ]
    },
    {
      "cell_type": "code",
      "execution_count": null,
      "metadata": {
        "colab": {
          "base_uri": "https://localhost:8080/",
          "height": 447
        },
        "id": "zaaXEg4xESaL",
        "outputId": "86575054-321c-437b-fabd-f88c02500918"
      },
      "outputs": [
        {
          "output_type": "stream",
          "name": "stdout",
          "text": [
            "Label: 3\n"
          ]
        },
        {
          "output_type": "display_data",
          "data": {
            "text/plain": [
              "<Figure size 640x480 with 1 Axes>"
            ],
            "image/png": "[encoded data removed]"
          },
          "metadata": {}
        }
      ],
      "source": [
        "plt.imshow(single_image)\n",
        "print(f\"Label: {single_label}\")"
      ]
    },
    {
      "cell_type": "code",
      "execution_count": null,
      "metadata": {
        "colab": {
          "base_uri": "https://localhost:8080/",
          "height": 447
        },
        "id": "ExifqxZrEUVT",
        "outputId": "88a7bd93-8835-4e19-adff-d00f1a5586f7"
      },
      "outputs": [
        {
          "output_type": "stream",
          "name": "stdout",
          "text": [
            "Label: 3\n"
          ]
        },
        {
          "output_type": "display_data",
          "data": {
            "text/plain": [
              "<Figure size 640x480 with 1 Axes>"
            ],
            "image/png": "[encoded data removed]"
          },
          "metadata": {}
        }
      ],
      "source": [
        "single_image_gray = np.mean(single_image, axis=-1)\n",
        "plt.imshow(single_image_gray, cmap=\"gray\")\n",
        "print(f\"Label: {single_label}\")"
      ]
    },
    {
      "cell_type": "code",
      "execution_count": null,
      "metadata": {
        "colab": {
          "base_uri": "https://localhost:8080/"
        },
        "id": "-_N9-oRJAjLr",
        "outputId": "bd53ca5a-d79c-4f61-fc3b-488d0c1b81fa"
      },
      "outputs": [
        {
          "output_type": "execute_result",
          "data": {
            "text/plain": [
              "array([ 1,  2,  3,  4,  5,  6,  7,  8,  9, 10], dtype=uint8)"
            ]
          },
          "metadata": {},
          "execution_count": 17
        }
      ],
      "source": [
        "np.unique(train_labels)"
      ]
    },
    {
      "cell_type": "code",
      "execution_count": null,
      "metadata": {
        "colab": {
          "base_uri": "https://localhost:8080/"
        },
        "id": "oLTGah6NGspp",
        "outputId": "fde79a68-f54a-45d2-9aee-8ff9b8a6382f"
      },
      "outputs": [
        {
          "output_type": "execute_result",
          "data": {
            "text/plain": [
              "array([ 1,  2,  3,  4,  5,  6,  7,  8,  9, 10], dtype=uint8)"
            ]
          },
          "metadata": {},
          "execution_count": 18
        }
      ],
      "source": [
        "np.unique(test_labels)"
      ]
    },
    {
      "cell_type": "code",
      "execution_count": null,
      "metadata": {
        "colab": {
          "base_uri": "https://localhost:8080/"
        },
        "id": "bZXQIgG4Gue0",
        "outputId": "2959194e-4102-4e4a-c2f0-51968035df83"
      },
      "outputs": [
        {
          "output_type": "execute_result",
          "data": {
            "text/plain": [
              "array([ 1,  2,  3,  4,  5,  6,  7,  8,  9, 10], dtype=uint8)"
            ]
          },
          "metadata": {},
          "execution_count": 19
        }
      ],
      "source": [
        "np.unique(extra_labels)"
      ]
    },
    {
      "cell_type": "code",
      "execution_count": null,
      "metadata": {
        "id": "oD7TZCFI-lB5"
      },
      "outputs": [],
      "source": [
        "# Replaces '10' labels with '0' labels\n",
        "train_labels[train_labels == 10] = 0\n",
        "test_labels[test_labels == 10] = 0\n",
        "extra_labels[extra_labels == 10] = 0"
      ]
    },
    {
      "cell_type": "code",
      "execution_count": null,
      "metadata": {
        "colab": {
          "base_uri": "https://localhost:8080/"
        },
        "id": "ARK3-oiDAw-V",
        "outputId": "e2749394-2e3c-4c36-a0c9-57ef865f28ff"
      },
      "outputs": [
        {
          "output_type": "execute_result",
          "data": {
            "text/plain": [
              "array([0, 1, 2, 3, 4, 5, 6, 7, 8, 9], dtype=uint8)"
            ]
          },
          "metadata": {},
          "execution_count": 21
        }
      ],
      "source": [
        "np.unique(train_labels)"
      ]
    },
    {
      "cell_type": "code",
      "execution_count": null,
      "metadata": {
        "colab": {
          "base_uri": "https://localhost:8080/"
        },
        "id": "TJBk6C9aGzel",
        "outputId": "52e8c4f9-2384-467d-9db3-dec594e8e82e"
      },
      "outputs": [
        {
          "output_type": "execute_result",
          "data": {
            "text/plain": [
              "array([0, 1, 2, 3, 4, 5, 6, 7, 8, 9], dtype=uint8)"
            ]
          },
          "metadata": {},
          "execution_count": 22
        }
      ],
      "source": [
        "np.unique(test_labels)"
      ]
    },
    {
      "cell_type": "code",
      "execution_count": null,
      "metadata": {
        "colab": {
          "base_uri": "https://localhost:8080/"
        },
        "id": "rICxjaE3G0-L",
        "outputId": "1fb6b570-c777-4b70-f0d3-31cbfbca0b0a"
      },
      "outputs": [
        {
          "output_type": "execute_result",
          "data": {
            "text/plain": [
              "array([0, 1, 2, 3, 4, 5, 6, 7, 8, 9], dtype=uint8)"
            ]
          },
          "metadata": {},
          "execution_count": 23
        }
      ],
      "source": [
        "np.unique(extra_labels)"
      ]
    },
    {
      "cell_type": "code",
      "execution_count": null,
      "metadata": {
        "id": "-ZxZZ1n1HjDt"
      },
      "outputs": [],
      "source": [
        "# Normalize pixel values\n",
        "train_images = train_images / 255.0\n",
        "test_images = test_images / 255.0\n",
        "extra_images = extra_images / 255.0"
      ]
    },
    {
      "cell_type": "code",
      "execution_count": null,
      "metadata": {
        "id": "6Z48j6I-HlXP"
      },
      "outputs": [],
      "source": [
        "normalized_single_image = train_images[25]"
      ]
    },
    {
      "cell_type": "code",
      "execution_count": null,
      "metadata": {
        "colab": {
          "base_uri": "https://localhost:8080/"
        },
        "id": "JlCF2S_IHpKI",
        "outputId": "19f1ca54-c7ff-475a-d2e4-3236aaf8bcf2"
      },
      "outputs": [
        {
          "output_type": "execute_result",
          "data": {
            "text/plain": [
              "array([[[0.32941176, 0.28627451, 0.30588235],\n",
              "        [0.31764706, 0.28235294, 0.31372549],\n",
              "        [0.30980392, 0.2745098 , 0.30980392],\n",
              "        ...,\n",
              "        [0.19215686, 0.13333333, 0.15686275],\n",
              "        [0.19607843, 0.14509804, 0.17647059],\n",
              "        [0.19215686, 0.12941176, 0.17254902]],\n",
              "\n",
              "       [[0.3372549 , 0.30980392, 0.32156863],\n",
              "        [0.33333333, 0.31372549, 0.3372549 ],\n",
              "        [0.31764706, 0.29803922, 0.3254902 ],\n",
              "        ...,\n",
              "        [0.18431373, 0.13333333, 0.14509804],\n",
              "        [0.18823529, 0.1372549 , 0.16078431],\n",
              "        [0.18431373, 0.12156863, 0.15686275]],\n",
              "\n",
              "       [[0.32941176, 0.32156863, 0.32941176],\n",
              "        [0.3254902 , 0.32156863, 0.34117647],\n",
              "        [0.27843137, 0.27058824, 0.29803922],\n",
              "        ...,\n",
              "        [0.19607843, 0.15294118, 0.15294118],\n",
              "        [0.19607843, 0.15294118, 0.15686275],\n",
              "        [0.18823529, 0.13333333, 0.15294118]],\n",
              "\n",
              "       ...,\n",
              "\n",
              "       [[0.50980392, 0.53333333, 0.50980392],\n",
              "        [0.52941176, 0.54509804, 0.53333333],\n",
              "        [0.52941176, 0.5254902 , 0.5372549 ],\n",
              "        ...,\n",
              "        [0.31372549, 0.26666667, 0.29803922],\n",
              "        [0.31372549, 0.27058824, 0.29411765],\n",
              "        [0.30196078, 0.26666667, 0.28235294]],\n",
              "\n",
              "       [[0.43529412, 0.46666667, 0.43921569],\n",
              "        [0.4745098 , 0.49803922, 0.47058824],\n",
              "        [0.49019608, 0.49411765, 0.48627451],\n",
              "        ...,\n",
              "        [0.3254902 , 0.2745098 , 0.31764706],\n",
              "        [0.3254902 , 0.2745098 , 0.30980392],\n",
              "        [0.31372549, 0.27058824, 0.29803922]],\n",
              "\n",
              "       [[0.34117647, 0.37254902, 0.36078431],\n",
              "        [0.36862745, 0.39607843, 0.36862745],\n",
              "        [0.4       , 0.4       , 0.39607843],\n",
              "        ...,\n",
              "        [0.3372549 , 0.28235294, 0.32941176],\n",
              "        [0.33333333, 0.28235294, 0.32156863],\n",
              "        [0.32156863, 0.2745098 , 0.30588235]]])"
            ]
          },
          "metadata": {},
          "execution_count": 26
        }
      ],
      "source": [
        "normalized_single_image"
      ]
    },
    {
      "cell_type": "code",
      "execution_count": null,
      "metadata": {
        "colab": {
          "base_uri": "https://localhost:8080/",
          "height": 447
        },
        "id": "Sav-_WhTHxsm",
        "outputId": "fc7d4c22-3142-4344-e1c8-26e85bb6d6ba"
      },
      "outputs": [
        {
          "output_type": "execute_result",
          "data": {
            "text/plain": [
              "<matplotlib.image.AxesImage at 0x7ac4e9fcadd0>"
            ]
          },
          "metadata": {},
          "execution_count": 27
        },
        {
          "output_type": "display_data",
          "data": {
            "text/plain": [
              "<Figure size 640x480 with 1 Axes>"
            ],
            "image/png": "[encoded data removed]"
          },
          "metadata": {}
        }
      ],
      "source": [
        "normalized_single_image_gray = np.mean(normalized_single_image, axis=-1)\n",
        "plt.imshow(normalized_single_image_gray, cmap=\"gray\")"
      ]
    },
    {
      "cell_type": "code",
      "execution_count": null,
      "metadata": {
        "id": "1CTDOPcL7TEn"
      },
      "outputs": [],
      "source": [
        "# One-hot encode the labels\n",
        "cat_train_labels = tf.keras.utils.to_categorical(train_labels, num_classes=10)\n",
        "cat_test_labels = tf.keras.utils.to_categorical(test_labels, num_classes=10)\n",
        "cat_extra_labels = tf.keras.utils.to_categorical(extra_labels, num_classes=10)"
      ]
    },
    {
      "cell_type": "code",
      "execution_count": null,
      "metadata": {
        "colab": {
          "base_uri": "https://localhost:8080/"
        },
        "id": "my0PIpJy7avG",
        "outputId": "4743eae5-8530-4357-c3ce-f90390f74ef9"
      },
      "outputs": [
        {
          "output_type": "execute_result",
          "data": {
            "text/plain": [
              "np.uint8(3)"
            ]
          },
          "metadata": {},
          "execution_count": 29
        }
      ],
      "source": [
        "train_labels[25]"
      ]
    },
    {
      "cell_type": "code",
      "execution_count": null,
      "metadata": {
        "colab": {
          "base_uri": "https://localhost:8080/"
        },
        "id": "5AVSqGg97YrQ",
        "outputId": "45fc3838-994a-46f3-c9c0-7bf870646880"
      },
      "outputs": [
        {
          "output_type": "execute_result",
          "data": {
            "text/plain": [
              "array([0., 0., 0., 1., 0., 0., 0., 0., 0., 0.])"
            ]
          },
          "metadata": {},
          "execution_count": 30
        }
      ],
      "source": [
        "cat_train_labels[25]"
      ]
    },
    {
      "cell_type": "code",
      "execution_count": null,
      "metadata": {
        "id": "kNMnR2xSCgd1"
      },
      "outputs": [],
      "source": [
        "# Combine train and extra sets\n",
        "train_images = np.concatenate((train_images, extra_images), axis=0)\n",
        "cat_train_labels = np.concatenate((cat_train_labels, cat_extra_labels), axis=0)"
      ]
    },
    {
      "cell_type": "code",
      "execution_count": null,
      "metadata": {
        "colab": {
          "base_uri": "https://localhost:8080/"
        },
        "id": "8Wju3y6QHuBv",
        "outputId": "e73150ba-0203-4212-d001-cfcf62da0bc0"
      },
      "outputs": [
        {
          "output_type": "execute_result",
          "data": {
            "text/plain": [
              "(604388, 32, 32, 3)"
            ]
          },
          "metadata": {},
          "execution_count": 32
        }
      ],
      "source": [
        "train_images.shape"
      ]
    },
    {
      "cell_type": "code",
      "execution_count": null,
      "metadata": {
        "colab": {
          "base_uri": "https://localhost:8080/"
        },
        "id": "F0quqa2CHwDe",
        "outputId": "3bc259c8-be9b-4ee0-c34d-462edcb82e7a"
      },
      "outputs": [
        {
          "output_type": "execute_result",
          "data": {
            "text/plain": [
              "(604388, 10)"
            ]
          },
          "metadata": {},
          "execution_count": 33
        }
      ],
      "source": [
        "cat_train_labels.shape"
      ]
    },
    {
      "cell_type": "markdown",
      "metadata": {
        "id": "jepMfB49BTHm"
      },
      "source": [
        "# Select a random sample of images and corresponding labels from the dataset (at least 10), and display them in a figure."
      ]
    },
    {
      "cell_type": "code",
      "execution_count": null,
      "metadata": {
        "id": "sj7ivnOI-zKc"
      },
      "outputs": [],
      "source": [
        "random_indices = np.random.choice(604388, size=20, replace=False)"
      ]
    },
    {
      "cell_type": "code",
      "execution_count": null,
      "metadata": {
        "colab": {
          "base_uri": "https://localhost:8080/"
        },
        "id": "3g58CVUyAKZT",
        "outputId": "17b2d042-466f-4ca0-dc62-d82f815afb14"
      },
      "outputs": [
        {
          "output_type": "execute_result",
          "data": {
            "text/plain": [
              "array([497288, 570002, 556502, 183622, 212624, 467273,  47412, 417272,\n",
              "       490139, 141131, 316092, 196512,   4671, 508397, 260117,  16556,\n",
              "        88078, 334103, 237877, 403208])"
            ]
          },
          "metadata": {},
          "execution_count": 35
        }
      ],
      "source": [
        "random_indices"
      ]
    },
    {
      "cell_type": "code",
      "execution_count": null,
      "metadata": {
        "colab": {
          "base_uri": "https://localhost:8080/",
          "height": 56
        },
        "id": "MgQLxwym-1Lu",
        "outputId": "0766a25c-63b9-4894-c007-6f937066f642"
      },
      "outputs": [
        {
          "output_type": "display_data",
          "data": {
            "text/plain": [
              "<Figure size 1500x400 with 20 Axes>"
            ],
            "image/png": "[encoded data removed]"
          },
          "metadata": {}
        }
      ],
      "source": [
        "plt.figure(figsize=(15, 4))\n",
        "\n",
        "for i, idx in enumerate(random_indices):\n",
        "    image = train_images[idx, :, :, :] # shape: (32, 32, 3)\n",
        "    label = cat_train_labels[idx]\n",
        "\n",
        "    plt.subplot(1, 20, i + 1)\n",
        "    plt.imshow(image)\n",
        "    plt.title(f\"{label}\")\n",
        "    plt.axis('off')\n",
        "\n",
        "plt.tight_layout()\n",
        "plt.show()\n"
      ]
    },
    {
      "cell_type": "markdown",
      "metadata": {
        "id": "_8FYQkUi1XxP"
      },
      "source": [
        "# Convert the training and test images to grayscale by taking the average across all colour channels for each pixel. Hint: retain the channel dimension, which will now have size 1."
      ]
    },
    {
      "cell_type": "code",
      "execution_count": null,
      "metadata": {
        "id": "CmEwDQFZ_F8t"
      },
      "outputs": [],
      "source": [
        "train_images_gray = np.mean(train_images, axis=-1, keepdims=True)  # shape: (123257, 32, 32, 1)\n",
        "test_images_gray = np.mean(test_images, axis=-1, keepdims=True)    # shape: (26032, 32, 32, 1)"
      ]
    },
    {
      "cell_type": "code",
      "execution_count": null,
      "metadata": {
        "colab": {
          "base_uri": "https://localhost:8080/"
        },
        "id": "dRVVEyY9E8-T",
        "outputId": "c2489d85-79d1-498d-888c-66e759f94e89"
      },
      "outputs": [
        {
          "output_type": "execute_result",
          "data": {
            "text/plain": [
              "(604388, 32, 32, 1)"
            ]
          },
          "metadata": {},
          "execution_count": 38
        }
      ],
      "source": [
        "train_images_gray.shape"
      ]
    },
    {
      "cell_type": "code",
      "execution_count": null,
      "metadata": {
        "colab": {
          "base_uri": "https://localhost:8080/"
        },
        "id": "e2svNNiA6yzB",
        "outputId": "de0195a6-8cbb-420d-dc57-940678716db1"
      },
      "outputs": [
        {
          "output_type": "execute_result",
          "data": {
            "text/plain": [
              "(26032, 32, 32, 1)"
            ]
          },
          "metadata": {},
          "execution_count": 39
        }
      ],
      "source": [
        "test_images_gray.shape"
      ]
    },
    {
      "cell_type": "markdown",
      "metadata": {
        "id": "wE_Ysj2b2-gg"
      },
      "source": [
        "# Select a random sample of the grayscale images and corresponding labels from the dataset (at least 10), and display them in a figure."
      ]
    },
    {
      "cell_type": "code",
      "execution_count": null,
      "metadata": {
        "colab": {
          "base_uri": "https://localhost:8080/",
          "height": 56
        },
        "id": "vzdT4MMP_Vso",
        "outputId": "d96dca87-b7d3-4f5e-a407-3f88df04095c"
      },
      "outputs": [
        {
          "output_type": "display_data",
          "data": {
            "text/plain": [
              "<Figure size 1500x400 with 20 Axes>"
            ],
            "image/png": "[encoded data removed]"
          },
          "metadata": {}
        }
      ],
      "source": [
        "plt.figure(figsize=(15, 4))\n",
        "\n",
        "for i, idx in enumerate(random_indices):\n",
        "    image = train_images_gray[idx, :, :, :]\n",
        "    label = cat_train_labels[idx]\n",
        "\n",
        "    plt.subplot(1, 20, i + 1)\n",
        "    plt.imshow(image, cmap=\"gray\")\n",
        "    plt.title(f\"{label}\")\n",
        "    plt.axis('off')\n",
        "\n",
        "plt.tight_layout()\n",
        "plt.show()\n"
      ]
    },
    {
      "cell_type": "code",
      "execution_count": null,
      "metadata": {
        "id": "UPg_KLhm3zCe"
      },
      "outputs": [],
      "source": [
        "from sklearn.model_selection import train_test_split"
      ]
    },
    {
      "cell_type": "code",
      "execution_count": null,
      "metadata": {
        "id": "47w-7TGG0jfC"
      },
      "outputs": [],
      "source": [
        "# Stratified split (15% validation)\n",
        "train_imgs, val_imgs, train_lbls, val_lbls = train_test_split(\n",
        "    train_images_gray,\n",
        "    cat_train_labels,\n",
        "    test_size=0.15,\n",
        "    stratify=np.argmax(cat_train_labels, axis=1),\n",
        "    random_state=42\n",
        ")"
      ]
    },
    {
      "cell_type": "code",
      "execution_count": null,
      "metadata": {
        "colab": {
          "base_uri": "https://localhost:8080/"
        },
        "id": "2BX2Ndbf39XR",
        "outputId": "c2217e6b-3a55-411a-f1f0-0cdf5ec0e7af"
      },
      "outputs": [
        {
          "output_type": "execute_result",
          "data": {
            "text/plain": [
              "(513729, 32, 32, 1)"
            ]
          },
          "metadata": {},
          "execution_count": 43
        }
      ],
      "source": [
        "train_imgs.shape"
      ]
    },
    {
      "cell_type": "code",
      "execution_count": null,
      "metadata": {
        "colab": {
          "base_uri": "https://localhost:8080/"
        },
        "id": "1IBAKBqd4AN_",
        "outputId": "43316372-26f5-4b14-a6d2-d8a3868f2e7f"
      },
      "outputs": [
        {
          "output_type": "execute_result",
          "data": {
            "text/plain": [
              "(90659, 32, 32, 1)"
            ]
          },
          "metadata": {},
          "execution_count": 44
        }
      ],
      "source": [
        "val_imgs.shape"
      ]
    },
    {
      "cell_type": "code",
      "execution_count": null,
      "metadata": {
        "colab": {
          "base_uri": "https://localhost:8080/"
        },
        "id": "rGNFRUfv4AeH",
        "outputId": "ded99e8b-8efc-4b62-9096-36705cdab0ac"
      },
      "outputs": [
        {
          "output_type": "execute_result",
          "data": {
            "text/plain": [
              "(513729, 10)"
            ]
          },
          "metadata": {},
          "execution_count": 45
        }
      ],
      "source": [
        "train_lbls.shape"
      ]
    },
    {
      "cell_type": "code",
      "execution_count": null,
      "metadata": {
        "colab": {
          "base_uri": "https://localhost:8080/"
        },
        "id": "e4scHZB54Arg",
        "outputId": "482080a5-fdce-4fa9-9568-08f85baf6c18"
      },
      "outputs": [
        {
          "output_type": "execute_result",
          "data": {
            "text/plain": [
              "(90659, 10)"
            ]
          },
          "metadata": {},
          "execution_count": 46
        }
      ],
      "source": [
        "val_lbls.shape"
      ]
    },
    {
      "cell_type": "markdown",
      "metadata": {
        "id": "FAufG-pFKdvq"
      },
      "source": [
        "# CNN neural network classifier\n",
        "* Build a CNN classifier model using the Sequential API. Your model should use the Conv2D, MaxPool2D, Flatten, Dense and Dropout layers. The final layer should again have a 10-way softmax output. Please use only what we learned in class.\n",
        "* Compile and train the model (the recommended is a maximum of 30 epochs), making use of both training and validation sets during the training run.\n",
        "* The model should track accuracy metric, and use early stopping during training.\n",
        "* Plot the learning curves for loss vs epoch and accuracy vs epoch for both training and validation sets.\n",
        "* Compute and display the loss and accuracy of the trained model on the test set."
      ]
    },
    {
      "cell_type": "code",
      "execution_count": null,
      "metadata": {
        "id": "WMAY95hdJvEe"
      },
      "outputs": [],
      "source": [
        "from tensorflow.keras.models import Sequential\n",
        "from tensorflow.keras.layers import Conv2D, MaxPool2D, Flatten, Dense, Dropout\n",
        "from tensorflow.keras.callbacks import EarlyStopping"
      ]
    },
    {
      "cell_type": "code",
      "execution_count": null,
      "metadata": {
        "colab": {
          "base_uri": "https://localhost:8080/"
        },
        "id": "64tIC-E2BsD0",
        "outputId": "67519a90-9c12-499c-fd2e-eb9fe9822937"
      },
      "outputs": [
        {
          "output_type": "stream",
          "name": "stderr",
          "text": [
            "/usr/local/lib/python3.11/dist-packages/keras/src/layers/convolutional/base_conv.py:107: UserWarning: Do not pass an `input_shape`/`input_dim` argument to a layer. When using Sequential models, prefer using an `Input(shape)` object as the first layer in the model instead.\n",
            "  super().__init__(activity_regularizer=activity_regularizer, **kwargs)\n"
          ]
        }
      ],
      "source": [
        "model = Sequential()\n",
        "\n",
        "# Convolutional Block 1\n",
        "model.add(Conv2D(filters=32, kernel_size=(3, 3), padding='same', activation='relu', input_shape=(32, 32, 1)))\n",
        "model.add(MaxPool2D(pool_size=(2, 2)))\n",
        "\n",
        "# Convolutional Block 2\n",
        "model.add(Conv2D(filters=64, kernel_size=(3, 3), padding='same', activation='relu'))\n",
        "model.add(MaxPool2D(pool_size=(2, 2)))\n",
        "\n",
        "# Convolutional Block 3\n",
        "model.add(Conv2D(filters=128, kernel_size=(3, 3), padding='same', activation='relu'))\n",
        "model.add(MaxPool2D(pool_size=(2, 2)))\n",
        "\n",
        "# Fully Connected Layers\n",
        "model.add(Flatten())\n",
        "model.add(Dense(units=256, activation='relu'))\n",
        "model.add(Dropout(rate=0.5))\n",
        "model.add(Dense(units=10, activation='softmax'))\n",
        "\n",
        "# Compile\n",
        "model.compile(loss='categorical_crossentropy', optimizer='adam', metrics=['accuracy'])\n"
      ]
    },
    {
      "cell_type": "code",
      "execution_count": null,
      "metadata": {
        "colab": {
          "base_uri": "https://localhost:8080/",
          "height": 449
        },
        "id": "Sjvch02BCtd_",
        "outputId": "f9d22cba-b02d-4b7f-83ed-1412cef3eefd"
      },
      "outputs": [
        {
          "output_type": "display_data",
          "data": {
            "text/plain": [
              "\u001b[1mModel: \"sequential\"\u001b[0m\n"
            ],
            "text/html": [
              "<pre style=\"white-space:pre;overflow-x:auto;line-height:normal;font-family:Menlo,'DejaVu Sans Mono',consolas,'Courier New',monospace\"><span style=\"font-weight: bold\">Model: \"sequential\"</span>\n",
              "</pre>\n"
            ]
          },
          "metadata": {}
        },
        {
          "output_type": "display_data",
          "data": {
            "text/plain": [
              "┏━━━━━━━━━━━━━━━━━━━━━━━━━━━━━━━━━┳━━━━━━━━━━━━━━━━━━━━━━━━┳━━━━━━━━━━━━━━━┓\n",
              "┃\u001b[1m \u001b[0m\u001b[1mLayer (type)                   \u001b[0m\u001b[1m \u001b[0m┃\u001b[1m \u001b[0m\u001b[1mOutput Shape          \u001b[0m\u001b[1m \u001b[0m┃\u001b[1m \u001b[0m\u001b[1m      Param #\u001b[0m\u001b[1m \u001b[0m┃\n",
              "┡━━━━━━━━━━━━━━━━━━━━━━━━━━━━━━━━━╇━━━━━━━━━━━━━━━━━━━━━━━━╇━━━━━━━━━━━━━━━┩\n",
              "│ conv2d (\u001b[38;5;33mConv2D\u001b[0m)                 │ (\u001b[38;5;45mNone\u001b[0m, \u001b[38;5;34m32\u001b[0m, \u001b[38;5;34m32\u001b[0m, \u001b[38;5;34m32\u001b[0m)     │           \u001b[38;5;34m320\u001b[0m │\n",
              "├─────────────────────────────────┼────────────────────────┼───────────────┤\n",
              "│ max_pooling2d (\u001b[38;5;33mMaxPooling2D\u001b[0m)    │ (\u001b[38;5;45mNone\u001b[0m, \u001b[38;5;34m16\u001b[0m, \u001b[38;5;34m16\u001b[0m, \u001b[38;5;34m32\u001b[0m)     │             \u001b[38;5;34m0\u001b[0m │\n",
              "├─────────────────────────────────┼────────────────────────┼───────────────┤\n",
              "│ conv2d_1 (\u001b[38;5;33mConv2D\u001b[0m)               │ (\u001b[38;5;45mNone\u001b[0m, \u001b[38;5;34m16\u001b[0m, \u001b[38;5;34m16\u001b[0m, \u001b[38;5;34m64\u001b[0m)     │        \u001b[38;5;34m18,496\u001b[0m │\n",
              "├─────────────────────────────────┼────────────────────────┼───────────────┤\n",
              "│ max_pooling2d_1 (\u001b[38;5;33mMaxPooling2D\u001b[0m)  │ (\u001b[38;5;45mNone\u001b[0m, \u001b[38;5;34m8\u001b[0m, \u001b[38;5;34m8\u001b[0m, \u001b[38;5;34m64\u001b[0m)       │             \u001b[38;5;34m0\u001b[0m │\n",
              "├─────────────────────────────────┼────────────────────────┼───────────────┤\n",
              "│ conv2d_2 (\u001b[38;5;33mConv2D\u001b[0m)               │ (\u001b[38;5;45mNone\u001b[0m, \u001b[38;5;34m8\u001b[0m, \u001b[38;5;34m8\u001b[0m, \u001b[38;5;34m128\u001b[0m)      │        \u001b[38;5;34m73,856\u001b[0m │\n",
              "├─────────────────────────────────┼────────────────────────┼───────────────┤\n",
              "│ max_pooling2d_2 (\u001b[38;5;33mMaxPooling2D\u001b[0m)  │ (\u001b[38;5;45mNone\u001b[0m, \u001b[38;5;34m4\u001b[0m, \u001b[38;5;34m4\u001b[0m, \u001b[38;5;34m128\u001b[0m)      │             \u001b[38;5;34m0\u001b[0m │\n",
              "├─────────────────────────────────┼────────────────────────┼───────────────┤\n",
              "│ flatten (\u001b[38;5;33mFlatten\u001b[0m)               │ (\u001b[38;5;45mNone\u001b[0m, \u001b[38;5;34m2048\u001b[0m)           │             \u001b[38;5;34m0\u001b[0m │\n",
              "├─────────────────────────────────┼────────────────────────┼───────────────┤\n",
              "│ dense (\u001b[38;5;33mDense\u001b[0m)                   │ (\u001b[38;5;45mNone\u001b[0m, \u001b[38;5;34m256\u001b[0m)            │       \u001b[38;5;34m524,544\u001b[0m │\n",
              "├─────────────────────────────────┼────────────────────────┼───────────────┤\n",
              "│ dropout (\u001b[38;5;33mDropout\u001b[0m)               │ (\u001b[38;5;45mNone\u001b[0m, \u001b[38;5;34m256\u001b[0m)            │             \u001b[38;5;34m0\u001b[0m │\n",
              "├─────────────────────────────────┼────────────────────────┼───────────────┤\n",
              "│ dense_1 (\u001b[38;5;33mDense\u001b[0m)                 │ (\u001b[38;5;45mNone\u001b[0m, \u001b[38;5;34m10\u001b[0m)             │         \u001b[38;5;34m2,570\u001b[0m │\n",
              "└─────────────────────────────────┴────────────────────────┴───────────────┘\n"
            ],
            "text/html": [
              "<pre style=\"white-space:pre;overflow-x:auto;line-height:normal;font-family:Menlo,'DejaVu Sans Mono',consolas,'Courier New',monospace\">┏━━━━━━━━━━━━━━━━━━━━━━━━━━━━━━━━━┳━━━━━━━━━━━━━━━━━━━━━━━━┳━━━━━━━━━━━━━━━┓\n",
              "┃<span style=\"font-weight: bold\"> Layer (type)                    </span>┃<span style=\"font-weight: bold\"> Output Shape           </span>┃<span style=\"font-weight: bold\">       Param # </span>┃\n",
              "┡━━━━━━━━━━━━━━━━━━━━━━━━━━━━━━━━━╇━━━━━━━━━━━━━━━━━━━━━━━━╇━━━━━━━━━━━━━━━┩\n",
              "│ conv2d (<span style=\"color: #0087ff; text-decoration-color: #0087ff\">Conv2D</span>)                 │ (<span style=\"color: #00d7ff; text-decoration-color: #00d7ff\">None</span>, <span style=\"color: #00af00; text-decoration-color: #00af00\">32</span>, <span style=\"color: #00af00; text-decoration-color: #00af00\">32</span>, <span style=\"color: #00af00; text-decoration-color: #00af00\">32</span>)     │           <span style=\"color: #00af00; text-decoration-color: #00af00\">320</span> │\n",
              "├─────────────────────────────────┼────────────────────────┼───────────────┤\n",
              "│ max_pooling2d (<span style=\"color: #0087ff; text-decoration-color: #0087ff\">MaxPooling2D</span>)    │ (<span style=\"color: #00d7ff; text-decoration-color: #00d7ff\">None</span>, <span style=\"color: #00af00; text-decoration-color: #00af00\">16</span>, <span style=\"color: #00af00; text-decoration-color: #00af00\">16</span>, <span style=\"color: #00af00; text-decoration-color: #00af00\">32</span>)     │             <span style=\"color: #00af00; text-decoration-color: #00af00\">0</span> │\n",
              "├─────────────────────────────────┼────────────────────────┼───────────────┤\n",
              "│ conv2d_1 (<span style=\"color: #0087ff; text-decoration-color: #0087ff\">Conv2D</span>)               │ (<span style=\"color: #00d7ff; text-decoration-color: #00d7ff\">None</span>, <span style=\"color: #00af00; text-decoration-color: #00af00\">16</span>, <span style=\"color: #00af00; text-decoration-color: #00af00\">16</span>, <span style=\"color: #00af00; text-decoration-color: #00af00\">64</span>)     │        <span style=\"color: #00af00; text-decoration-color: #00af00\">18,496</span> │\n",
              "├─────────────────────────────────┼────────────────────────┼───────────────┤\n",
              "│ max_pooling2d_1 (<span style=\"color: #0087ff; text-decoration-color: #0087ff\">MaxPooling2D</span>)  │ (<span style=\"color: #00d7ff; text-decoration-color: #00d7ff\">None</span>, <span style=\"color: #00af00; text-decoration-color: #00af00\">8</span>, <span style=\"color: #00af00; text-decoration-color: #00af00\">8</span>, <span style=\"color: #00af00; text-decoration-color: #00af00\">64</span>)       │             <span style=\"color: #00af00; text-decoration-color: #00af00\">0</span> │\n",
              "├─────────────────────────────────┼────────────────────────┼───────────────┤\n",
              "│ conv2d_2 (<span style=\"color: #0087ff; text-decoration-color: #0087ff\">Conv2D</span>)               │ (<span style=\"color: #00d7ff; text-decoration-color: #00d7ff\">None</span>, <span style=\"color: #00af00; text-decoration-color: #00af00\">8</span>, <span style=\"color: #00af00; text-decoration-color: #00af00\">8</span>, <span style=\"color: #00af00; text-decoration-color: #00af00\">128</span>)      │        <span style=\"color: #00af00; text-decoration-color: #00af00\">73,856</span> │\n",
              "├─────────────────────────────────┼────────────────────────┼───────────────┤\n",
              "│ max_pooling2d_2 (<span style=\"color: #0087ff; text-decoration-color: #0087ff\">MaxPooling2D</span>)  │ (<span style=\"color: #00d7ff; text-decoration-color: #00d7ff\">None</span>, <span style=\"color: #00af00; text-decoration-color: #00af00\">4</span>, <span style=\"color: #00af00; text-decoration-color: #00af00\">4</span>, <span style=\"color: #00af00; text-decoration-color: #00af00\">128</span>)      │             <span style=\"color: #00af00; text-decoration-color: #00af00\">0</span> │\n",
              "├─────────────────────────────────┼────────────────────────┼───────────────┤\n",
              "│ flatten (<span style=\"color: #0087ff; text-decoration-color: #0087ff\">Flatten</span>)               │ (<span style=\"color: #00d7ff; text-decoration-color: #00d7ff\">None</span>, <span style=\"color: #00af00; text-decoration-color: #00af00\">2048</span>)           │             <span style=\"color: #00af00; text-decoration-color: #00af00\">0</span> │\n",
              "├─────────────────────────────────┼────────────────────────┼───────────────┤\n",
              "│ dense (<span style=\"color: #0087ff; text-decoration-color: #0087ff\">Dense</span>)                   │ (<span style=\"color: #00d7ff; text-decoration-color: #00d7ff\">None</span>, <span style=\"color: #00af00; text-decoration-color: #00af00\">256</span>)            │       <span style=\"color: #00af00; text-decoration-color: #00af00\">524,544</span> │\n",
              "├─────────────────────────────────┼────────────────────────┼───────────────┤\n",
              "│ dropout (<span style=\"color: #0087ff; text-decoration-color: #0087ff\">Dropout</span>)               │ (<span style=\"color: #00d7ff; text-decoration-color: #00d7ff\">None</span>, <span style=\"color: #00af00; text-decoration-color: #00af00\">256</span>)            │             <span style=\"color: #00af00; text-decoration-color: #00af00\">0</span> │\n",
              "├─────────────────────────────────┼────────────────────────┼───────────────┤\n",
              "│ dense_1 (<span style=\"color: #0087ff; text-decoration-color: #0087ff\">Dense</span>)                 │ (<span style=\"color: #00d7ff; text-decoration-color: #00d7ff\">None</span>, <span style=\"color: #00af00; text-decoration-color: #00af00\">10</span>)             │         <span style=\"color: #00af00; text-decoration-color: #00af00\">2,570</span> │\n",
              "└─────────────────────────────────┴────────────────────────┴───────────────┘\n",
              "</pre>\n"
            ]
          },
          "metadata": {}
        },
        {
          "output_type": "display_data",
          "data": {
            "text/plain": [
              "\u001b[1m Total params: \u001b[0m\u001b[38;5;34m619,786\u001b[0m (2.36 MB)\n"
            ],
            "text/html": [
              "<pre style=\"white-space:pre;overflow-x:auto;line-height:normal;font-family:Menlo,'DejaVu Sans Mono',consolas,'Courier New',monospace\"><span style=\"font-weight: bold\"> Total params: </span><span style=\"color: #00af00; text-decoration-color: #00af00\">619,786</span> (2.36 MB)\n",
              "</pre>\n"
            ]
          },
          "metadata": {}
        },
        {
          "output_type": "display_data",
          "data": {
            "text/plain": [
              "\u001b[1m Trainable params: \u001b[0m\u001b[38;5;34m619,786\u001b[0m (2.36 MB)\n"
            ],
            "text/html": [
              "<pre style=\"white-space:pre;overflow-x:auto;line-height:normal;font-family:Menlo,'DejaVu Sans Mono',consolas,'Courier New',monospace\"><span style=\"font-weight: bold\"> Trainable params: </span><span style=\"color: #00af00; text-decoration-color: #00af00\">619,786</span> (2.36 MB)\n",
              "</pre>\n"
            ]
          },
          "metadata": {}
        },
        {
          "output_type": "display_data",
          "data": {
            "text/plain": [
              "\u001b[1m Non-trainable params: \u001b[0m\u001b[38;5;34m0\u001b[0m (0.00 B)\n"
            ],
            "text/html": [
              "<pre style=\"white-space:pre;overflow-x:auto;line-height:normal;font-family:Menlo,'DejaVu Sans Mono',consolas,'Courier New',monospace\"><span style=\"font-weight: bold\"> Non-trainable params: </span><span style=\"color: #00af00; text-decoration-color: #00af00\">0</span> (0.00 B)\n",
              "</pre>\n"
            ]
          },
          "metadata": {}
        }
      ],
      "source": [
        "model.summary()"
      ]
    },
    {
      "cell_type": "code",
      "execution_count": null,
      "metadata": {
        "colab": {
          "base_uri": "https://localhost:8080/"
        },
        "id": "CfkXkD4uCyO2",
        "outputId": "2502e95a-c24b-419a-bb3b-db4cc36689fc"
      },
      "outputs": [
        {
          "output_type": "stream",
          "name": "stdout",
          "text": [
            "Epoch 1/30\n",
            "\u001b[1m16055/16055\u001b[0m \u001b[32m━━━━━━━━━━━━━━━━━━━━\u001b[0m\u001b[37m\u001b[0m \u001b[1m59s\u001b[0m 3ms/step - accuracy: 0.8205 - loss: 0.5608 - val_accuracy: 0.9549 - val_loss: 0.1622\n",
            "Epoch 2/30\n",
            "\u001b[1m16055/16055\u001b[0m \u001b[32m━━━━━━━━━━━━━━━━━━━━\u001b[0m\u001b[37m\u001b[0m \u001b[1m51s\u001b[0m 3ms/step - accuracy: 0.9484 - loss: 0.1826 - val_accuracy: 0.9640 - val_loss: 0.1366\n",
            "Epoch 3/30\n",
            "\u001b[1m16055/16055\u001b[0m \u001b[32m━━━━━━━━━━━━━━━━━━━━\u001b[0m\u001b[37m\u001b[0m \u001b[1m50s\u001b[0m 3ms/step - accuracy: 0.9575 - loss: 0.1535 - val_accuracy: 0.9629 - val_loss: 0.1375\n",
            "Epoch 4/30\n",
            "\u001b[1m16055/16055\u001b[0m \u001b[32m━━━━━━━━━━━━━━━━━━━━\u001b[0m\u001b[37m\u001b[0m \u001b[1m51s\u001b[0m 3ms/step - accuracy: 0.9612 - loss: 0.1412 - val_accuracy: 0.9672 - val_loss: 0.1276\n",
            "Epoch 5/30\n",
            "\u001b[1m16055/16055\u001b[0m \u001b[32m━━━━━━━━━━━━━━━━━━━━\u001b[0m\u001b[37m\u001b[0m \u001b[1m53s\u001b[0m 3ms/step - accuracy: 0.9640 - loss: 0.1326 - val_accuracy: 0.9688 - val_loss: 0.1213\n",
            "Epoch 6/30\n",
            "\u001b[1m16055/16055\u001b[0m \u001b[32m━━━━━━━━━━━━━━━━━━━━\u001b[0m\u001b[37m\u001b[0m \u001b[1m52s\u001b[0m 3ms/step - accuracy: 0.9655 - loss: 0.1278 - val_accuracy: 0.9693 - val_loss: 0.1194\n",
            "Epoch 7/30\n",
            "\u001b[1m16055/16055\u001b[0m \u001b[32m━━━━━━━━━━━━━━━━━━━━\u001b[0m\u001b[37m\u001b[0m \u001b[1m51s\u001b[0m 3ms/step - accuracy: 0.9667 - loss: 0.1240 - val_accuracy: 0.9693 - val_loss: 0.1225\n",
            "Epoch 8/30\n",
            "\u001b[1m16055/16055\u001b[0m \u001b[32m━━━━━━━━━━━━━━━━━━━━\u001b[0m\u001b[37m\u001b[0m \u001b[1m51s\u001b[0m 3ms/step - accuracy: 0.9675 - loss: 0.1200 - val_accuracy: 0.9711 - val_loss: 0.1174\n",
            "Epoch 9/30\n",
            "\u001b[1m16055/16055\u001b[0m \u001b[32m━━━━━━━━━━━━━━━━━━━━\u001b[0m\u001b[37m\u001b[0m \u001b[1m50s\u001b[0m 3ms/step - accuracy: 0.9686 - loss: 0.1153 - val_accuracy: 0.9680 - val_loss: 0.1324\n",
            "Epoch 10/30\n",
            "\u001b[1m16055/16055\u001b[0m \u001b[32m━━━━━━━━━━━━━━━━━━━━\u001b[0m\u001b[37m\u001b[0m \u001b[1m51s\u001b[0m 3ms/step - accuracy: 0.9690 - loss: 0.1162 - val_accuracy: 0.9688 - val_loss: 0.1252\n",
            "Epoch 11/30\n",
            "\u001b[1m16055/16055\u001b[0m \u001b[32m━━━━━━━━━━━━━━━━━━━━\u001b[0m\u001b[37m\u001b[0m \u001b[1m51s\u001b[0m 3ms/step - accuracy: 0.9701 - loss: 0.1137 - val_accuracy: 0.9713 - val_loss: 0.1188\n"
          ]
        },
        {
          "output_type": "execute_result",
          "data": {
            "text/plain": [
              "<keras.src.callbacks.history.History at 0x7abdd0228710>"
            ]
          },
          "metadata": {},
          "execution_count": 50
        }
      ],
      "source": [
        "# Early stop\n",
        "early_stop = EarlyStopping(monitor='val_loss', patience=3)\n",
        "\n",
        "# Train\n",
        "model.fit(train_imgs,train_lbls,epochs=30,validation_data=(val_imgs,val_lbls),callbacks=[early_stop])"
      ]
    },
    {
      "cell_type": "code",
      "execution_count": null,
      "metadata": {
        "colab": {
          "base_uri": "https://localhost:8080/"
        },
        "id": "RWcczD77C5zq",
        "outputId": "2b7e92eb-7881-4a38-e021-411b5da66aaf"
      },
      "outputs": [
        {
          "output_type": "execute_result",
          "data": {
            "text/plain": [
              "['loss', 'compile_metrics']"
            ]
          },
          "metadata": {},
          "execution_count": 51
        }
      ],
      "source": [
        "model.metrics_names # Check the metric names"
      ]
    },
    {
      "cell_type": "code",
      "execution_count": null,
      "metadata": {
        "id": "rd4jfVecNRJx"
      },
      "outputs": [],
      "source": [
        "losses = pd.DataFrame(model.history.history)"
      ]
    },
    {
      "cell_type": "code",
      "execution_count": null,
      "metadata": {
        "colab": {
          "base_uri": "https://localhost:8080/",
          "height": 394
        },
        "id": "sy_wSMEfDarb",
        "outputId": "82e35731-71f6-4bf6-99e4-98b57a154da1"
      },
      "outputs": [
        {
          "output_type": "execute_result",
          "data": {
            "text/plain": [
              "    accuracy      loss  val_accuracy  val_loss\n",
              "0   0.902721  0.324831      0.954930  0.162200\n",
              "1   0.950602  0.176437      0.963997  0.136565\n",
              "2   0.957807  0.153704      0.962861  0.137525\n",
              "3   0.960828  0.142849      0.967196  0.127583\n",
              "4   0.963562  0.135306      0.968762  0.121255\n",
              "5   0.965013  0.129435      0.969347  0.119449\n",
              "6   0.966064  0.125630      0.969292  0.122537\n",
              "7   0.967095  0.121628      0.971078  0.117439\n",
              "8   0.967859  0.119363      0.968045  0.132404\n",
              "9   0.968442  0.118479      0.968795  0.125223\n",
              "10  0.968877  0.117038      0.971266  0.118845"
            ],
            "text/html": [
              "\n",
              "  <div id=\"df-dea33743-d481-458d-9886-faf14d179a75\" class=\"colab-df-container\">\n",
              "    <div>\n",
              "<style scoped>\n",
              "    .dataframe tbody tr th:only-of-type {\n",
              "        vertical-align: middle;\n",
              "    }\n",
              "\n",
              "    .dataframe tbody tr th {\n",
              "        vertical-align: top;\n",
              "    }\n",
              "\n",
              "    .dataframe thead th {\n",
              "        text-align: right;\n",
              "    }\n",
              "</style>\n",
              "<table border=\"1\" class=\"dataframe\">\n",
              "  <thead>\n",
              "    <tr style=\"text-align: right;\">\n",
              "      <th></th>\n",
              "      <th>accuracy</th>\n",
              "      <th>loss</th>\n",
              "      <th>val_accuracy</th>\n",
              "      <th>val_loss</th>\n",
              "    </tr>\n",
              "  </thead>\n",
              "  <tbody>\n",
              "    <tr>\n",
              "      <th>0</th>\n",
              "      <td>0.902721</td>\n",
              "      <td>0.324831</td>\n",
              "      <td>0.954930</td>\n",
              "      <td>0.162200</td>\n",
              "    </tr>\n",
              "    <tr>\n",
              "      <th>1</th>\n",
              "      <td>0.950602</td>\n",
              "      <td>0.176437</td>\n",
              "      <td>0.963997</td>\n",
              "      <td>0.136565</td>\n",
              "    </tr>\n",
              "    <tr>\n",
              "      <th>2</th>\n",
              "      <td>0.957807</td>\n",
              "      <td>0.153704</td>\n",
              "      <td>0.962861</td>\n",
              "      <td>0.137525</td>\n",
              "    </tr>\n",
              "    <tr>\n",
              "      <th>3</th>\n",
              "      <td>0.960828</td>\n",
              "      <td>0.142849</td>\n",
              "      <td>0.967196</td>\n",
              "      <td>0.127583</td>\n",
              "    </tr>\n",
              "    <tr>\n",
              "      <th>4</th>\n",
              "      <td>0.963562</td>\n",
              "      <td>0.135306</td>\n",
              "      <td>0.968762</td>\n",
              "      <td>0.121255</td>\n",
              "    </tr>\n",
              "    <tr>\n",
              "      <th>5</th>\n",
              "      <td>0.965013</td>\n",
              "      <td>0.129435</td>\n",
              "      <td>0.969347</td>\n",
              "      <td>0.119449</td>\n",
              "    </tr>\n",
              "    <tr>\n",
              "      <th>6</th>\n",
              "      <td>0.966064</td>\n",
              "      <td>0.125630</td>\n",
              "      <td>0.969292</td>\n",
              "      <td>0.122537</td>\n",
              "    </tr>\n",
              "    <tr>\n",
              "      <th>7</th>\n",
              "      <td>0.967095</td>\n",
              "      <td>0.121628</td>\n",
              "      <td>0.971078</td>\n",
              "      <td>0.117439</td>\n",
              "    </tr>\n",
              "    <tr>\n",
              "      <th>8</th>\n",
              "      <td>0.967859</td>\n",
              "      <td>0.119363</td>\n",
              "      <td>0.968045</td>\n",
              "      <td>0.132404</td>\n",
              "    </tr>\n",
              "    <tr>\n",
              "      <th>9</th>\n",
              "      <td>0.968442</td>\n",
              "      <td>0.118479</td>\n",
              "      <td>0.968795</td>\n",
              "      <td>0.125223</td>\n",
              "    </tr>\n",
              "    <tr>\n",
              "      <th>10</th>\n",
              "      <td>0.968877</td>\n",
              "      <td>0.117038</td>\n",
              "      <td>0.971266</td>\n",
              "      <td>0.118845</td>\n",
              "    </tr>\n",
              "  </tbody>\n",
              "</table>\n",
              "</div>\n",
              "    <div class=\"colab-df-buttons\">\n",
              "\n",
              "  <div class=\"colab-df-container\">\n",
              "    <button class=\"colab-df-convert\" onclick=\"convertToInteractive('df-dea33743-d481-458d-9886-faf14d179a75')\"\n",
              "            title=\"Convert this dataframe to an interactive table.\"\n",
              "            style=\"display:none;\">\n",
              "\n",
              "  <svg xmlns=\"http://www.w3.org/2000/svg\" height=\"24px\" viewBox=\"0 -960 960 960\">\n",
              "    <path d=\"M120-120v-720h720v720H120Zm60-500h600v-160H180v160Zm220 220h160v-160H400v160Zm0 220h160v-160H400v160ZM180-400h160v-160H180v160Zm440 0h160v-160H620v160ZM180-180h160v-160H180v160Zm440 0h160v-160H620v160Z\"/>\n",
              "  </svg>\n",
              "    </button>\n",
              "\n",
              "  <style>\n",
              "    .colab-df-container {\n",
              "      display:flex;\n",
              "      gap: 12px;\n",
              "    }\n",
              "\n",
              "    .colab-df-convert {\n",
              "      background-color: #E8F0FE;\n",
              "      border: none;\n",
              "      border-radius: 50%;\n",
              "      cursor: pointer;\n",
              "      display: none;\n",
              "      fill: #1967D2;\n",
              "      height: 32px;\n",
              "      padding: 0 0 0 0;\n",
              "      width: 32px;\n",
              "    }\n",
              "\n",
              "    .colab-df-convert:hover {\n",
              "      background-color: #E2EBFA;\n",
              "      box-shadow: 0px 1px 2px rgba(60, 64, 67, 0.3), 0px 1px 3px 1px rgba(60, 64, 67, 0.15);\n",
              "      fill: #174EA6;\n",
              "    }\n",
              "\n",
              "    .colab-df-buttons div {\n",
              "      margin-bottom: 4px;\n",
              "    }\n",
              "\n",
              "    [theme=dark] .colab-df-convert {\n",
              "      background-color: #3B4455;\n",
              "      fill: #D2E3FC;\n",
              "    }\n",
              "\n",
              "    [theme=dark] .colab-df-convert:hover {\n",
              "      background-color: #434B5C;\n",
              "      box-shadow: 0px 1px 3px 1px rgba(0, 0, 0, 0.15);\n",
              "      filter: drop-shadow(0px 1px 2px rgba(0, 0, 0, 0.3));\n",
              "      fill: #FFFFFF;\n",
              "    }\n",
              "  </style>\n",
              "\n",
              "    <script>\n",
              "      const buttonEl =\n",
              "        document.querySelector('#df-dea33743-d481-458d-9886-faf14d179a75 button.colab-df-convert');\n",
              "      buttonEl.style.display =\n",
              "        google.colab.kernel.accessAllowed ? 'block' : 'none';\n",
              "\n",
              "      async function convertToInteractive(key) {\n",
              "        const element = document.querySelector('#df-dea33743-d481-458d-9886-faf14d179a75');\n",
              "        const dataTable =\n",
              "          await google.colab.kernel.invokeFunction('convertToInteractive',\n",
              "                                                    [key], {});\n",
              "        if (!dataTable) return;\n",
              "\n",
              "        const docLinkHtml = 'Like what you see? Visit the ' +\n",
              "          '<a target=\"_blank\" href=https://colab.research.google.com/notebooks/data_table.ipynb>data table notebook</a>'\n",
              "          + ' to learn more about interactive tables.';\n",
              "        element.innerHTML = '';\n",
              "        dataTable['output_type'] = 'display_data';\n",
              "        await google.colab.output.renderOutput(dataTable, element);\n",
              "        const docLink = document.createElement('div');\n",
              "        docLink.innerHTML = docLinkHtml;\n",
              "        element.appendChild(docLink);\n",
              "      }\n",
              "    </script>\n",
              "  </div>\n",
              "\n",
              "\n",
              "    <div id=\"df-37284959-3d97-458f-9aef-dff44761c27a\">\n",
              "      <button class=\"colab-df-quickchart\" onclick=\"quickchart('df-37284959-3d97-458f-9aef-dff44761c27a')\"\n",
              "                title=\"Suggest charts\"\n",
              "                style=\"display:none;\">\n",
              "\n",
              "<svg xmlns=\"http://www.w3.org/2000/svg\" height=\"24px\"viewBox=\"0 0 24 24\"\n",
              "     width=\"24px\">\n",
              "    <g>\n",
              "        <path d=\"M19 3H5c-1.1 0-2 .9-2 2v14c0 1.1.9 2 2 2h14c1.1 0 2-.9 2-2V5c0-1.1-.9-2-2-2zM9 17H7v-7h2v7zm4 0h-2V7h2v10zm4 0h-2v-4h2v4z\"/>\n",
              "    </g>\n",
              "</svg>\n",
              "      </button>\n",
              "\n",
              "<style>\n",
              "  .colab-df-quickchart {\n",
              "      --bg-color: #E8F0FE;\n",
              "      --fill-color: #1967D2;\n",
              "      --hover-bg-color: #E2EBFA;\n",
              "      --hover-fill-color: #174EA6;\n",
              "      --disabled-fill-color: #AAA;\n",
              "      --disabled-bg-color: #DDD;\n",
              "  }\n",
              "\n",
              "  [theme=dark] .colab-df-quickchart {\n",
              "      --bg-color: #3B4455;\n",
              "      --fill-color: #D2E3FC;\n",
              "      --hover-bg-color: #434B5C;\n",
              "      --hover-fill-color: #FFFFFF;\n",
              "      --disabled-bg-color: #3B4455;\n",
              "      --disabled-fill-color: #666;\n",
              "  }\n",
              "\n",
              "  .colab-df-quickchart {\n",
              "    background-color: var(--bg-color);\n",
              "    border: none;\n",
              "    border-radius: 50%;\n",
              "    cursor: pointer;\n",
              "    display: none;\n",
              "    fill: var(--fill-color);\n",
              "    height: 32px;\n",
              "    padding: 0;\n",
              "    width: 32px;\n",
              "  }\n",
              "\n",
              "  .colab-df-quickchart:hover {\n",
              "    background-color: var(--hover-bg-color);\n",
              "    box-shadow: 0 1px 2px rgba(60, 64, 67, 0.3), 0 1px 3px 1px rgba(60, 64, 67, 0.15);\n",
              "    fill: var(--button-hover-fill-color);\n",
              "  }\n",
              "\n",
              "  .colab-df-quickchart-complete:disabled,\n",
              "  .colab-df-quickchart-complete:disabled:hover {\n",
              "    background-color: var(--disabled-bg-color);\n",
              "    fill: var(--disabled-fill-color);\n",
              "    box-shadow: none;\n",
              "  }\n",
              "\n",
              "  .colab-df-spinner {\n",
              "    border: 2px solid var(--fill-color);\n",
              "    border-color: transparent;\n",
              "    border-bottom-color: var(--fill-color);\n",
              "    animation:\n",
              "      spin 1s steps(1) infinite;\n",
              "  }\n",
              "\n",
              "  @keyframes spin {\n",
              "    0% {\n",
              "      border-color: transparent;\n",
              "      border-bottom-color: var(--fill-color);\n",
              "      border-left-color: var(--fill-color);\n",
              "    }\n",
              "    20% {\n",
              "      border-color: transparent;\n",
              "      border-left-color: var(--fill-color);\n",
              "      border-top-color: var(--fill-color);\n",
              "    }\n",
              "    30% {\n",
              "      border-color: transparent;\n",
              "      border-left-color: var(--fill-color);\n",
              "      border-top-color: var(--fill-color);\n",
              "      border-right-color: var(--fill-color);\n",
              "    }\n",
              "    40% {\n",
              "      border-color: transparent;\n",
              "      border-right-color: var(--fill-color);\n",
              "      border-top-color: var(--fill-color);\n",
              "    }\n",
              "    60% {\n",
              "      border-color: transparent;\n",
              "      border-right-color: var(--fill-color);\n",
              "    }\n",
              "    80% {\n",
              "      border-color: transparent;\n",
              "      border-right-color: var(--fill-color);\n",
              "      border-bottom-color: var(--fill-color);\n",
              "    }\n",
              "    90% {\n",
              "      border-color: transparent;\n",
              "      border-bottom-color: var(--fill-color);\n",
              "    }\n",
              "  }\n",
              "</style>\n",
              "\n",
              "      <script>\n",
              "        async function quickchart(key) {\n",
              "          const quickchartButtonEl =\n",
              "            document.querySelector('#' + key + ' button');\n",
              "          quickchartButtonEl.disabled = true;  // To prevent multiple clicks.\n",
              "          quickchartButtonEl.classList.add('colab-df-spinner');\n",
              "          try {\n",
              "            const charts = await google.colab.kernel.invokeFunction(\n",
              "                'suggestCharts', [key], {});\n",
              "          } catch (error) {\n",
              "            console.error('Error during call to suggestCharts:', error);\n",
              "          }\n",
              "          quickchartButtonEl.classList.remove('colab-df-spinner');\n",
              "          quickchartButtonEl.classList.add('colab-df-quickchart-complete');\n",
              "        }\n",
              "        (() => {\n",
              "          let quickchartButtonEl =\n",
              "            document.querySelector('#df-37284959-3d97-458f-9aef-dff44761c27a button');\n",
              "          quickchartButtonEl.style.display =\n",
              "            google.colab.kernel.accessAllowed ? 'block' : 'none';\n",
              "        })();\n",
              "      </script>\n",
              "    </div>\n",
              "\n",
              "  <div id=\"id_d7a6232c-df19-4959-9cd2-ce1722018ccf\">\n",
              "    <style>\n",
              "      .colab-df-generate {\n",
              "        background-color: #E8F0FE;\n",
              "        border: none;\n",
              "        border-radius: 50%;\n",
              "        cursor: pointer;\n",
              "        display: none;\n",
              "        fill: #1967D2;\n",
              "        height: 32px;\n",
              "        padding: 0 0 0 0;\n",
              "        width: 32px;\n",
              "      }\n",
              "\n",
              "      .colab-df-generate:hover {\n",
              "        background-color: #E2EBFA;\n",
              "        box-shadow: 0px 1px 2px rgba(60, 64, 67, 0.3), 0px 1px 3px 1px rgba(60, 64, 67, 0.15);\n",
              "        fill: #174EA6;\n",
              "      }\n",
              "\n",
              "      [theme=dark] .colab-df-generate {\n",
              "        background-color: #3B4455;\n",
              "        fill: #D2E3FC;\n",
              "      }\n",
              "\n",
              "      [theme=dark] .colab-df-generate:hover {\n",
              "        background-color: #434B5C;\n",
              "        box-shadow: 0px 1px 3px 1px rgba(0, 0, 0, 0.15);\n",
              "        filter: drop-shadow(0px 1px 2px rgba(0, 0, 0, 0.3));\n",
              "        fill: #FFFFFF;\n",
              "      }\n",
              "    </style>\n",
              "    <button class=\"colab-df-generate\" onclick=\"generateWithVariable('losses')\"\n",
              "            title=\"Generate code using this dataframe.\"\n",
              "            style=\"display:none;\">\n",
              "\n",
              "  <svg xmlns=\"http://www.w3.org/2000/svg\" height=\"24px\"viewBox=\"0 0 24 24\"\n",
              "       width=\"24px\">\n",
              "    <path d=\"M7,19H8.4L18.45,9,17,7.55,7,17.6ZM5,21V16.75L18.45,3.32a2,2,0,0,1,2.83,0l1.4,1.43a1.91,1.91,0,0,1,.58,1.4,1.91,1.91,0,0,1-.58,1.4L9.25,21ZM18.45,9,17,7.55Zm-12,3A5.31,5.31,0,0,0,4.9,8.1,5.31,5.31,0,0,0,1,6.5,5.31,5.31,0,0,0,4.9,4.9,5.31,5.31,0,0,0,6.5,1,5.31,5.31,0,0,0,8.1,4.9,5.31,5.31,0,0,0,12,6.5,5.46,5.46,0,0,0,6.5,12Z\"/>\n",
              "  </svg>\n",
              "    </button>\n",
              "    <script>\n",
              "      (() => {\n",
              "      const buttonEl =\n",
              "        document.querySelector('#id_d7a6232c-df19-4959-9cd2-ce1722018ccf button.colab-df-generate');\n",
              "      buttonEl.style.display =\n",
              "        google.colab.kernel.accessAllowed ? 'block' : 'none';\n",
              "\n",
              "      buttonEl.onclick = () => {\n",
              "        google.colab.notebook.generateWithVariable('losses');\n",
              "      }\n",
              "      })();\n",
              "    </script>\n",
              "  </div>\n",
              "\n",
              "    </div>\n",
              "  </div>\n"
            ],
            "application/vnd.google.colaboratory.intrinsic+json": {
              "type": "dataframe",
              "variable_name": "losses",
              "summary": "{\n  \"name\": \"losses\",\n  \"rows\": 11,\n  \"fields\": [\n    {\n      \"column\": \"accuracy\",\n      \"properties\": {\n        \"dtype\": \"number\",\n        \"std\": 0.019159473080972305,\n        \"min\": 0.902721107006073,\n        \"max\": 0.9688766002655029,\n        \"num_unique_values\": 11,\n        \"samples\": [\n          0.9650126695632935,\n          0.902721107006073,\n          0.9684424996376038\n        ],\n        \"semantic_type\": \"\",\n        \"description\": \"\"\n      }\n    },\n    {\n      \"column\": \"loss\",\n      \"properties\": {\n        \"dtype\": \"number\",\n        \"std\": 0.06030461200317292,\n        \"min\": 0.11703786253929138,\n        \"max\": 0.3248312175273895,\n        \"num_unique_values\": 11,\n        \"samples\": [\n          0.1294347494840622,\n          0.3248312175273895,\n          0.11847881972789764\n        ],\n        \"semantic_type\": \"\",\n        \"description\": \"\"\n      }\n    },\n    {\n      \"column\": \"val_accuracy\",\n      \"properties\": {\n        \"dtype\": \"number\",\n        \"std\": 0.004740231245262674,\n        \"min\": 0.9549300074577332,\n        \"max\": 0.971265971660614,\n        \"num_unique_values\": 11,\n        \"samples\": [\n          0.9693467020988464,\n          0.9549300074577332,\n          0.9687951803207397\n        ],\n        \"semantic_type\": \"\",\n        \"description\": \"\"\n      }\n    },\n    {\n      \"column\": \"val_loss\",\n      \"properties\": {\n        \"dtype\": \"number\",\n        \"std\": 0.012997659626853257,\n        \"min\": 0.11743919551372528,\n        \"max\": 0.1622002124786377,\n        \"num_unique_values\": 11,\n        \"samples\": [\n          0.11944886296987534,\n          0.1622002124786377,\n          0.12522289156913757\n        ],\n        \"semantic_type\": \"\",\n        \"description\": \"\"\n      }\n    }\n  ]\n}"
            }
          },
          "metadata": {},
          "execution_count": 53
        }
      ],
      "source": [
        "losses"
      ]
    },
    {
      "cell_type": "code",
      "execution_count": null,
      "metadata": {
        "colab": {
          "base_uri": "https://localhost:8080/",
          "height": 447
        },
        "id": "tMMOkdIHNVYp",
        "outputId": "0dd43c1e-f93e-4cb5-e9d9-3905b25f6484"
      },
      "outputs": [
        {
          "output_type": "execute_result",
          "data": {
            "text/plain": [
              "<Axes: >"
            ]
          },
          "metadata": {},
          "execution_count": 54
        },
        {
          "output_type": "display_data",
          "data": {
            "text/plain": [
              "<Figure size 640x480 with 1 Axes>"
            ],
            "image/png": "[encoded data removed]"
          },
          "metadata": {}
        }
      ],
      "source": [
        "losses[['accuracy','val_accuracy']].plot()"
      ]
    },
    {
      "cell_type": "code",
      "execution_count": null,
      "metadata": {
        "colab": {
          "base_uri": "https://localhost:8080/",
          "height": 447
        },
        "id": "x4X8IQ2cNXcu",
        "outputId": "919e7b9b-e5fb-4d22-f971-5046f07ddb69"
      },
      "outputs": [
        {
          "output_type": "execute_result",
          "data": {
            "text/plain": [
              "<Axes: >"
            ]
          },
          "metadata": {},
          "execution_count": 55
        },
        {
          "output_type": "display_data",
          "data": {
            "text/plain": [
              "<Figure size 640x480 with 1 Axes>"
            ],
            "image/png": "[encoded data removed]"
          },
          "metadata": {}
        }
      ],
      "source": [
        "losses[['loss','val_loss']].plot()"
      ]
    },
    {
      "cell_type": "code",
      "execution_count": null,
      "metadata": {
        "id": "BBL_y7ZlNayb"
      },
      "outputs": [],
      "source": [
        "from sklearn.metrics import classification_report,confusion_matrix"
      ]
    },
    {
      "cell_type": "code",
      "execution_count": null,
      "metadata": {
        "colab": {
          "base_uri": "https://localhost:8080/"
        },
        "id": "b45juEwzNbbu",
        "outputId": "a9181040-4e75-4429-88be-39f1e3d41f29"
      },
      "outputs": [
        {
          "output_type": "stream",
          "name": "stdout",
          "text": [
            "\u001b[1m814/814\u001b[0m \u001b[32m━━━━━━━━━━━━━━━━━━━━\u001b[0m\u001b[37m\u001b[0m \u001b[1m2s\u001b[0m 2ms/step\n"
          ]
        }
      ],
      "source": [
        "predictions = model.predict(test_images_gray)"
      ]
    },
    {
      "cell_type": "code",
      "execution_count": null,
      "metadata": {
        "colab": {
          "base_uri": "https://localhost:8080/"
        },
        "id": "WO_VM81lNkFq",
        "outputId": "58e5f926-ceab-4022-f830-dfdf7803c832"
      },
      "outputs": [
        {
          "output_type": "execute_result",
          "data": {
            "text/plain": [
              "array([[4.8619563e-11, 8.7852543e-09, 2.4123054e-07, ..., 1.6935695e-07,\n",
              "        3.4333281e-09, 1.4450826e-08],\n",
              "       [1.2798432e-09, 7.1566602e-09, 9.9999416e-01, ..., 2.2324438e-07,\n",
              "        9.0855612e-10, 3.6524348e-09],\n",
              "       [1.4622789e-08, 9.9998963e-01, 6.7177808e-07, ..., 9.8884368e-07,\n",
              "        1.3059671e-08, 1.5191265e-08],\n",
              "       ...,\n",
              "       [6.8170480e-10, 1.3964177e-07, 4.4802335e-05, ..., 9.9995232e-01,\n",
              "        3.3615491e-12, 3.8908124e-07],\n",
              "       [1.2936059e-05, 7.7630782e-09, 1.3935372e-10, ..., 2.3640118e-10,\n",
              "        1.5215099e-05, 1.1328984e-11],\n",
              "       [1.9599569e-12, 1.4076382e-05, 4.7574801e-07, ..., 9.9998546e-01,\n",
              "        5.5827988e-13, 1.5650263e-09]], dtype=float32)"
            ]
          },
          "metadata": {},
          "execution_count": 58
        }
      ],
      "source": [
        "predictions"
      ]
    },
    {
      "cell_type": "code",
      "execution_count": null,
      "metadata": {
        "id": "7zwAqwOrNoUZ"
      },
      "outputs": [],
      "source": [
        "pred_binary = predictions > 0.5"
      ]
    },
    {
      "cell_type": "code",
      "execution_count": null,
      "metadata": {
        "colab": {
          "base_uri": "https://localhost:8080/"
        },
        "id": "j9U98FAfNo_e",
        "outputId": "6f6f5695-96df-41c6-c8a1-2fbe74f3252a"
      },
      "outputs": [
        {
          "output_type": "execute_result",
          "data": {
            "text/plain": [
              "array([[False, False, False, ..., False, False, False],\n",
              "       [False, False,  True, ..., False, False, False],\n",
              "       [False,  True, False, ..., False, False, False],\n",
              "       ...,\n",
              "       [False, False, False, ...,  True, False, False],\n",
              "       [False, False, False, ..., False, False, False],\n",
              "       [False, False, False, ...,  True, False, False]])"
            ]
          },
          "metadata": {},
          "execution_count": 60
        }
      ],
      "source": [
        "pred_binary"
      ]
    },
    {
      "cell_type": "code",
      "execution_count": null,
      "metadata": {
        "id": "0Oi3XIkrNqAv"
      },
      "outputs": [],
      "source": [
        "pred_class = np.argmax(predictions, axis=1)"
      ]
    },
    {
      "cell_type": "code",
      "execution_count": null,
      "metadata": {
        "colab": {
          "base_uri": "https://localhost:8080/"
        },
        "id": "4Kgk6sneNqoq",
        "outputId": "daf2451e-eb7e-4777-cdd7-27227c57a1e3"
      },
      "outputs": [
        {
          "output_type": "execute_result",
          "data": {
            "text/plain": [
              "array([5, 2, 1, ..., 7, 6, 7])"
            ]
          },
          "metadata": {},
          "execution_count": 95
        }
      ],
      "source": [
        "pred_class"
      ]
    },
    {
      "cell_type": "code",
      "execution_count": null,
      "metadata": {
        "colab": {
          "base_uri": "https://localhost:8080/"
        },
        "id": "IJVvwa-rNrgt",
        "outputId": "18040563-1c57-4009-ec55-4b30fdb1318f"
      },
      "outputs": [
        {
          "output_type": "execute_result",
          "data": {
            "text/plain": [
              "array([0., 0., 0., 0., 0., 1., 0., 0., 0., 0.])"
            ]
          },
          "metadata": {},
          "execution_count": 63
        }
      ],
      "source": [
        "cat_test_labels[0]"
      ]
    },
    {
      "cell_type": "code",
      "execution_count": null,
      "metadata": {
        "colab": {
          "base_uri": "https://localhost:8080/"
        },
        "id": "2ObfsuJWNsTQ",
        "outputId": "3fd17252-7013-4d6f-d85d-11da2e39309b"
      },
      "outputs": [
        {
          "output_type": "stream",
          "name": "stdout",
          "text": [
            "              precision    recall  f1-score   support\n",
            "\n",
            "           0       0.92      0.96      0.94      1744\n",
            "           1       0.95      0.97      0.96      5099\n",
            "           2       0.97      0.95      0.96      4149\n",
            "           3       0.92      0.94      0.93      2882\n",
            "           4       0.97      0.95      0.96      2523\n",
            "           5       0.95      0.94      0.94      2384\n",
            "           6       0.93      0.94      0.94      1977\n",
            "           7       0.96      0.94      0.95      2019\n",
            "           8       0.94      0.91      0.93      1660\n",
            "           9       0.93      0.93      0.93      1595\n",
            "\n",
            "    accuracy                           0.95     26032\n",
            "   macro avg       0.94      0.94      0.94     26032\n",
            "weighted avg       0.95      0.95      0.95     26032\n",
            "\n"
          ]
        }
      ],
      "source": [
        "print(classification_report(test_labels,pred_class))"
      ]
    },
    {
      "cell_type": "code",
      "execution_count": null,
      "metadata": {
        "colab": {
          "base_uri": "https://localhost:8080/"
        },
        "id": "fwGHoOUGNtej",
        "outputId": "22df4367-173b-40ff-dba7-83aaa57531d0"
      },
      "outputs": [
        {
          "output_type": "execute_result",
          "data": {
            "text/plain": [
              "array([[1669,   13,    6,    7,    2,    4,   16,    5,    5,   17],\n",
              "       [  45, 4930,   22,   14,   21,   10,   12,   29,   10,    6],\n",
              "       [   8,   37, 3961,   64,   14,   17,    5,   21,   10,   12],\n",
              "       [   7,   40,   17, 2721,    4,   35,   13,    4,   19,   22],\n",
              "       [  15,   59,    8,   16, 2386,    5,   14,    8,    3,    9],\n",
              "       [   5,   10,   12,   59,    4, 2246,   26,    2,   11,    9],\n",
              "       [  28,   17,    3,   12,    5,   24, 1855,    3,   24,    6],\n",
              "       [   3,   69,   18,   11,    5,    9,    5, 1890,    1,    8],\n",
              "       [  17,    7,    6,   28,    8,   11,   41,    2, 1513,   27],\n",
              "       [  27,   12,   22,   14,    8,   10,    1,    2,    8, 1491]])"
            ]
          },
          "metadata": {},
          "execution_count": 65
        }
      ],
      "source": [
        "confusion_matrix(test_labels,pred_class)"
      ]
    },
    {
      "cell_type": "code",
      "execution_count": null,
      "metadata": {
        "colab": {
          "base_uri": "https://localhost:8080/",
          "height": 447
        },
        "id": "jCs5S3igNum3",
        "outputId": "0fc8d576-1fdd-4c87-a43d-e54c339a6948"
      },
      "outputs": [
        {
          "output_type": "execute_result",
          "data": {
            "text/plain": [
              "<Axes: >"
            ]
          },
          "metadata": {},
          "execution_count": 66
        },
        {
          "output_type": "display_data",
          "data": {
            "text/plain": [
              "<Figure size 640x480 with 2 Axes>"
            ],
            "image/png": "[encoded data removed]"
          },
          "metadata": {}
        }
      ],
      "source": [
        "import seaborn as sns\n",
        "sns.heatmap(confusion_matrix(test_labels,pred_class),annot=True)"
      ]
    },
    {
      "cell_type": "code",
      "execution_count": null,
      "metadata": {
        "id": "NuBdDWe5Nvdt"
      },
      "outputs": [],
      "source": [
        "my_number = test_images_gray[664]"
      ]
    },
    {
      "cell_type": "code",
      "execution_count": null,
      "metadata": {
        "colab": {
          "base_uri": "https://localhost:8080/",
          "height": 447
        },
        "id": "VtBY_9qFNwRF",
        "outputId": "578739a8-b9a4-4ff1-d0d3-143c59e34b33"
      },
      "outputs": [
        {
          "output_type": "execute_result",
          "data": {
            "text/plain": [
              "<matplotlib.image.AxesImage at 0x7abc97558090>"
            ]
          },
          "metadata": {},
          "execution_count": 68
        },
        {
          "output_type": "display_data",
          "data": {
            "text/plain": [
              "<Figure size 640x480 with 1 Axes>"
            ],
            "image/png": "[encoded data removed]"
          },
          "metadata": {}
        }
      ],
      "source": [
        "plt.imshow(my_number.reshape(32, 32), cmap='gray')"
      ]
    },
    {
      "cell_type": "code",
      "execution_count": null,
      "metadata": {
        "colab": {
          "base_uri": "https://localhost:8080/"
        },
        "id": "6PXn60kmNxeE",
        "outputId": "4be0efcf-a7b5-49f2-befa-4a625a646985"
      },
      "outputs": [
        {
          "output_type": "stream",
          "name": "stdout",
          "text": [
            "\u001b[1m1/1\u001b[0m \u001b[32m━━━━━━━━━━━━━━━━━━━━\u001b[0m\u001b[37m\u001b[0m \u001b[1m0s\u001b[0m 401ms/step\n"
          ]
        },
        {
          "output_type": "execute_result",
          "data": {
            "text/plain": [
              "array([[6.4053495e-07, 2.6309046e-05, 3.0764255e-05, 2.8490178e-06,\n",
              "        9.9993253e-01, 6.6887559e-08, 1.5111578e-06, 4.9039277e-06,\n",
              "        5.2862475e-08, 3.4097283e-07]], dtype=float32)"
            ]
          },
          "metadata": {},
          "execution_count": 69
        }
      ],
      "source": [
        "model.predict(my_number.reshape(1, 32, 32, 1))"
      ]
    },
    {
      "cell_type": "code",
      "execution_count": null,
      "metadata": {
        "colab": {
          "base_uri": "https://localhost:8080/"
        },
        "id": "t7mRku72NyjX",
        "outputId": "a7c0c076-4bd1-4013-ab51-b071072d082a"
      },
      "outputs": [
        {
          "output_type": "stream",
          "name": "stdout",
          "text": [
            "\u001b[1m1/1\u001b[0m \u001b[32m━━━━━━━━━━━━━━━━━━━━\u001b[0m\u001b[37m\u001b[0m \u001b[1m0s\u001b[0m 30ms/step\n"
          ]
        },
        {
          "output_type": "execute_result",
          "data": {
            "text/plain": [
              "array([[0., 0., 0., 0., 1., 0., 0., 0., 0., 0.]], dtype=float32)"
            ]
          },
          "metadata": {},
          "execution_count": 70
        }
      ],
      "source": [
        "np.round(model.predict(my_number.reshape(1, 32, 32, 1)), 2)"
      ]
    },
    {
      "cell_type": "code",
      "execution_count": null,
      "metadata": {
        "id": "RN6Va_RkX9vQ"
      },
      "outputs": [],
      "source": [
        "model.save('base_model_full_dataset.keras')"
      ]
    },
    {
      "cell_type": "markdown",
      "metadata": {
        "id": "r4Wk7jKYKdvq"
      },
      "source": [
        "# Improvement\n",
        "* Try to use ImageDataGenerator to augment the data.\n",
        "* Try to add BatchNomalization layers using Keras API.\n",
        "* Try to use a pre-trained CNN model for transfer learning.\n"
      ]
    },
    {
      "cell_type": "code",
      "execution_count": null,
      "metadata": {
        "id": "9-guz99JEsLF"
      },
      "outputs": [],
      "source": [
        "from tensorflow.keras.preprocessing.image import ImageDataGenerator"
      ]
    },
    {
      "cell_type": "code",
      "execution_count": null,
      "metadata": {
        "id": "9qj2KVH3Eqsv"
      },
      "outputs": [],
      "source": [
        "#help(ImageDataGenerator)"
      ]
    },
    {
      "cell_type": "code",
      "execution_count": null,
      "metadata": {
        "id": "j71ZSWuKES2a"
      },
      "outputs": [],
      "source": [
        "train_gen = ImageDataGenerator(\n",
        "    rotation_range=10,\n",
        "    width_shift_range=0.1,\n",
        "    height_shift_range=0.1,\n",
        "    zoom_range=0.1,\n",
        "    shear_range=8,\n",
        "    fill_mode='nearest'\n",
        ")\n",
        "\n",
        "pass_gen = ImageDataGenerator()"
      ]
    },
    {
      "cell_type": "code",
      "execution_count": null,
      "metadata": {
        "colab": {
          "base_uri": "https://localhost:8080/",
          "height": 447
        },
        "id": "sTUhI-1NEZ82",
        "outputId": "7d8e4c5f-09b1-4ce4-e537-174a595efb23"
      },
      "outputs": [
        {
          "output_type": "execute_result",
          "data": {
            "text/plain": [
              "<matplotlib.image.AxesImage at 0x7abc9749e0d0>"
            ]
          },
          "metadata": {},
          "execution_count": 75
        },
        {
          "output_type": "display_data",
          "data": {
            "text/plain": [
              "<Figure size 640x480 with 1 Axes>"
            ],
            "image/png": "[encoded data removed]"
          },
          "metadata": {}
        }
      ],
      "source": [
        "plt.imshow(train_images[0])"
      ]
    },
    {
      "cell_type": "code",
      "execution_count": null,
      "metadata": {
        "colab": {
          "base_uri": "https://localhost:8080/",
          "height": 447
        },
        "id": "KgUlT6pRQt9S",
        "outputId": "15738e46-45a7-46d4-b2b9-9cf1686e84e7"
      },
      "outputs": [
        {
          "output_type": "execute_result",
          "data": {
            "text/plain": [
              "<matplotlib.image.AxesImage at 0x7abb6433d6d0>"
            ]
          },
          "metadata": {},
          "execution_count": 76
        },
        {
          "output_type": "display_data",
          "data": {
            "text/plain": [
              "<Figure size 640x480 with 1 Axes>"
            ],
            "image/png": "[encoded data removed]"
          },
          "metadata": {}
        }
      ],
      "source": [
        "plt.imshow(train_gen.random_transform(train_images[0]))"
      ]
    },
    {
      "cell_type": "code",
      "execution_count": null,
      "metadata": {
        "id": "QsheMcsDS7iJ"
      },
      "outputs": [],
      "source": [
        "BATCH = 64"
      ]
    },
    {
      "cell_type": "code",
      "execution_count": null,
      "metadata": {
        "id": "7aQ5EQ6UQz2g"
      },
      "outputs": [],
      "source": [
        "train_gen = train_gen.flow(\n",
        "    train_imgs, # numpy array (N,32,32,1)\n",
        "    train_lbls, # numpy array (N,10)\n",
        "    batch_size=BATCH,\n",
        "    shuffle=True\n",
        ")\n",
        "\n",
        "val_gen = pass_gen.flow(\n",
        "    val_imgs,\n",
        "    val_lbls,\n",
        "    batch_size=BATCH,\n",
        "    shuffle=False\n",
        ")\n",
        "\n",
        "test_gen = pass_gen.flow(\n",
        "    test_images_gray,\n",
        "    cat_test_labels,\n",
        "    batch_size=BATCH,\n",
        "    shuffle=False\n",
        ")"
      ]
    },
    {
      "cell_type": "code",
      "execution_count": null,
      "metadata": {
        "colab": {
          "base_uri": "https://localhost:8080/"
        },
        "id": "FKwDaI3HTqbI",
        "outputId": "17b5c6b6-d54e-499a-9006-a22c414a140d"
      },
      "outputs": [
        {
          "output_type": "stream",
          "name": "stdout",
          "text": [
            "Samples : 513729\n",
            "Batch sz: 64\n",
            "Batch X shape: (64, 32, 32, 1)\n",
            "Batch Y shape: (64, 10)\n"
          ]
        }
      ],
      "source": [
        "print(\"Samples :\", train_gen.n)\n",
        "print(\"Batch sz:\", train_gen.batch_size)\n",
        "\n",
        "batch_x, batch_y = train_gen[0]\n",
        "print(\"Batch X shape:\", batch_x.shape)\n",
        "print(\"Batch Y shape:\", batch_y.shape)"
      ]
    },
    {
      "cell_type": "code",
      "execution_count": null,
      "metadata": {
        "colab": {
          "base_uri": "https://localhost:8080/"
        },
        "id": "EbGpvWcPWWLW",
        "outputId": "abf38877-a08f-4316-fe1a-1af5980f3bf5"
      },
      "outputs": [
        {
          "output_type": "stream",
          "name": "stderr",
          "text": [
            "/usr/local/lib/python3.11/dist-packages/keras/src/layers/convolutional/base_conv.py:107: UserWarning: Do not pass an `input_shape`/`input_dim` argument to a layer. When using Sequential models, prefer using an `Input(shape)` object as the first layer in the model instead.\n",
            "  super().__init__(activity_regularizer=activity_regularizer, **kwargs)\n"
          ]
        }
      ],
      "source": [
        "model2 = Sequential()\n",
        "\n",
        "# Convolutional Block 1\n",
        "model2.add(Conv2D(filters=32, kernel_size=(3, 3), padding='same', activation='relu', input_shape=(32, 32, 1)))\n",
        "model2.add(MaxPool2D(pool_size=(2, 2)))\n",
        "\n",
        "# Convolutional Block 2\n",
        "model2.add(Conv2D(filters=64, kernel_size=(3, 3), padding='same', activation='relu'))\n",
        "model2.add(MaxPool2D(pool_size=(2, 2)))\n",
        "\n",
        "# Convolutional Block 3\n",
        "model2.add(Conv2D(filters=128, kernel_size=(3, 3), padding='same', activation='relu'))\n",
        "model2.add(MaxPool2D(pool_size=(2, 2)))\n",
        "\n",
        "# Fully Connected Layers\n",
        "model2.add(Flatten())\n",
        "model2.add(Dense(units=256, activation='relu'))\n",
        "model2.add(Dropout(rate=0.5))\n",
        "model2.add(Dense(units=10, activation='softmax'))\n",
        "\n",
        "# Compile\n",
        "model2.compile(loss='categorical_crossentropy', optimizer='adam', metrics=['accuracy'])\n"
      ]
    },
    {
      "cell_type": "code",
      "execution_count": null,
      "metadata": {
        "id": "gY9fFVd_U01H",
        "colab": {
          "base_uri": "https://localhost:8080/"
        },
        "outputId": "b3de8fc7-8e39-4338-9421-473f9d706a15"
      },
      "outputs": [
        {
          "output_type": "stream",
          "name": "stdout",
          "text": [
            "Epoch 1/30\n"
          ]
        },
        {
          "output_type": "stream",
          "name": "stderr",
          "text": [
            "/usr/local/lib/python3.11/dist-packages/keras/src/trainers/data_adapters/py_dataset_adapter.py:121: UserWarning: Your `PyDataset` class should call `super().__init__(**kwargs)` in its constructor. `**kwargs` can include `workers`, `use_multiprocessing`, `max_queue_size`. Do not pass these arguments to `fit()`, as they will be ignored.\n",
            "  self._warn_if_super_not_called()\n"
          ]
        },
        {
          "output_type": "stream",
          "name": "stdout",
          "text": [
            "\u001b[1m8028/8028\u001b[0m \u001b[32m━━━━━━━━━━━━━━━━━━━━\u001b[0m\u001b[37m\u001b[0m \u001b[1m154s\u001b[0m 19ms/step - accuracy: 0.7230 - loss: 0.8355 - val_accuracy: 0.9559 - val_loss: 0.1594\n",
            "Epoch 2/30\n",
            "\u001b[1m8028/8028\u001b[0m \u001b[32m━━━━━━━━━━━━━━━━━━━━\u001b[0m\u001b[37m\u001b[0m \u001b[1m150s\u001b[0m 19ms/step - accuracy: 0.9193 - loss: 0.2731 - val_accuracy: 0.9666 - val_loss: 0.1258\n",
            "Epoch 3/30\n",
            "\u001b[1m8028/8028\u001b[0m \u001b[32m━━━━━━━━━━━━━━━━━━━━\u001b[0m\u001b[37m\u001b[0m \u001b[1m151s\u001b[0m 19ms/step - accuracy: 0.9344 - loss: 0.2275 - val_accuracy: 0.9675 - val_loss: 0.1251\n",
            "Epoch 4/30\n",
            "\u001b[1m8028/8028\u001b[0m \u001b[32m━━━━━━━━━━━━━━━━━━━━\u001b[0m\u001b[37m\u001b[0m \u001b[1m152s\u001b[0m 19ms/step - accuracy: 0.9415 - loss: 0.2026 - val_accuracy: 0.9671 - val_loss: 0.1223\n",
            "Epoch 5/30\n",
            "\u001b[1m8028/8028\u001b[0m \u001b[32m━━━━━━━━━━━━━━━━━━━━\u001b[0m\u001b[37m\u001b[0m \u001b[1m155s\u001b[0m 19ms/step - accuracy: 0.9470 - loss: 0.1869 - val_accuracy: 0.9693 - val_loss: 0.1182\n",
            "Epoch 6/30\n",
            "\u001b[1m8028/8028\u001b[0m \u001b[32m━━━━━━━━━━━━━━━━━━━━\u001b[0m\u001b[37m\u001b[0m \u001b[1m153s\u001b[0m 19ms/step - accuracy: 0.9492 - loss: 0.1784 - val_accuracy: 0.9717 - val_loss: 0.1104\n",
            "Epoch 7/30\n",
            "\u001b[1m8028/8028\u001b[0m \u001b[32m━━━━━━━━━━━━━━━━━━━━\u001b[0m\u001b[37m\u001b[0m \u001b[1m153s\u001b[0m 19ms/step - accuracy: 0.9506 - loss: 0.1758 - val_accuracy: 0.9726 - val_loss: 0.1092\n",
            "Epoch 8/30\n",
            "\u001b[1m8028/8028\u001b[0m \u001b[32m━━━━━━━━━━━━━━━━━━━━\u001b[0m\u001b[37m\u001b[0m \u001b[1m159s\u001b[0m 20ms/step - accuracy: 0.9532 - loss: 0.1668 - val_accuracy: 0.9726 - val_loss: 0.1065\n",
            "Epoch 9/30\n",
            "\u001b[1m8028/8028\u001b[0m \u001b[32m━━━━━━━━━━━━━━━━━━━━\u001b[0m\u001b[37m\u001b[0m \u001b[1m153s\u001b[0m 19ms/step - accuracy: 0.9538 - loss: 0.1653 - val_accuracy: 0.9727 - val_loss: 0.1074\n",
            "Epoch 10/30\n",
            "\u001b[1m8028/8028\u001b[0m \u001b[32m━━━━━━━━━━━━━━━━━━━━\u001b[0m\u001b[37m\u001b[0m \u001b[1m152s\u001b[0m 19ms/step - accuracy: 0.9552 - loss: 0.1598 - val_accuracy: 0.9737 - val_loss: 0.1043\n",
            "Epoch 11/30\n",
            "\u001b[1m8028/8028\u001b[0m \u001b[32m━━━━━━━━━━━━━━━━━━━━\u001b[0m\u001b[37m\u001b[0m \u001b[1m152s\u001b[0m 19ms/step - accuracy: 0.9564 - loss: 0.1586 - val_accuracy: 0.9737 - val_loss: 0.1055\n",
            "Epoch 12/30\n",
            "\u001b[1m8028/8028\u001b[0m \u001b[32m━━━━━━━━━━━━━━━━━━━━\u001b[0m\u001b[37m\u001b[0m \u001b[1m153s\u001b[0m 19ms/step - accuracy: 0.9572 - loss: 0.1563 - val_accuracy: 0.9748 - val_loss: 0.1034\n",
            "Epoch 13/30\n",
            "\u001b[1m8028/8028\u001b[0m \u001b[32m━━━━━━━━━━━━━━━━━━━━\u001b[0m\u001b[37m\u001b[0m \u001b[1m152s\u001b[0m 19ms/step - accuracy: 0.9571 - loss: 0.1530 - val_accuracy: 0.9730 - val_loss: 0.1035\n",
            "Epoch 14/30\n",
            "\u001b[1m8028/8028\u001b[0m \u001b[32m━━━━━━━━━━━━━━━━━━━━\u001b[0m\u001b[37m\u001b[0m \u001b[1m153s\u001b[0m 19ms/step - accuracy: 0.9590 - loss: 0.1492 - val_accuracy: 0.9751 - val_loss: 0.0984\n",
            "Epoch 15/30\n",
            "\u001b[1m8028/8028\u001b[0m \u001b[32m━━━━━━━━━━━━━━━━━━━━\u001b[0m\u001b[37m\u001b[0m \u001b[1m149s\u001b[0m 19ms/step - accuracy: 0.9589 - loss: 0.1494 - val_accuracy: 0.9755 - val_loss: 0.0993\n",
            "Epoch 16/30\n",
            "\u001b[1m8028/8028\u001b[0m \u001b[32m━━━━━━━━━━━━━━━━━━━━\u001b[0m\u001b[37m\u001b[0m \u001b[1m148s\u001b[0m 18ms/step - accuracy: 0.9590 - loss: 0.1482 - val_accuracy: 0.9736 - val_loss: 0.1005\n",
            "Epoch 17/30\n",
            "\u001b[1m8028/8028\u001b[0m \u001b[32m━━━━━━━━━━━━━━━━━━━━\u001b[0m\u001b[37m\u001b[0m \u001b[1m147s\u001b[0m 18ms/step - accuracy: 0.9596 - loss: 0.1464 - val_accuracy: 0.9739 - val_loss: 0.1039\n"
          ]
        },
        {
          "output_type": "execute_result",
          "data": {
            "text/plain": [
              "<keras.src.callbacks.history.History at 0x7abb64328710>"
            ]
          },
          "metadata": {},
          "execution_count": 81
        }
      ],
      "source": [
        "# Train\n",
        "model2.fit(\n",
        "    train_gen,\n",
        "    epochs=30,\n",
        "    validation_data=val_gen,\n",
        "    callbacks=[early_stop]\n",
        ")"
      ]
    },
    {
      "cell_type": "code",
      "source": [
        "model2.metrics_names # Check the metric names"
      ],
      "metadata": {
        "colab": {
          "base_uri": "https://localhost:8080/"
        },
        "id": "GaNyOKdLsAr1",
        "outputId": "e31d902b-3859-4324-b1cd-4a4925a6b365"
      },
      "execution_count": null,
      "outputs": [
        {
          "output_type": "execute_result",
          "data": {
            "text/plain": [
              "['loss', 'compile_metrics']"
            ]
          },
          "metadata": {},
          "execution_count": 82
        }
      ]
    },
    {
      "cell_type": "code",
      "source": [
        "losses2 = pd.DataFrame(model2.history.history)"
      ],
      "metadata": {
        "id": "D5qMZx1OsFwP"
      },
      "execution_count": null,
      "outputs": []
    },
    {
      "cell_type": "code",
      "source": [
        "losses2"
      ],
      "metadata": {
        "colab": {
          "base_uri": "https://localhost:8080/",
          "height": 582
        },
        "id": "gDnwRaXzsIUD",
        "outputId": "fbbf3fbb-a3a8-4629-b5d3-1ccbc66e65cc"
      },
      "execution_count": null,
      "outputs": [
        {
          "output_type": "execute_result",
          "data": {
            "text/plain": [
              "    accuracy      loss  val_accuracy  val_loss\n",
              "0   0.842296  0.502098      0.955912  0.159390\n",
              "1   0.923759  0.260971      0.966578  0.125800\n",
              "2   0.936525  0.219445      0.967494  0.125083\n",
              "3   0.942843  0.200806      0.967108  0.122278\n",
              "4   0.946651  0.188646      0.969303  0.118165\n",
              "5   0.949501  0.179973      0.971729  0.110425\n",
              "6   0.950959  0.173497      0.972579  0.109186\n",
              "7   0.953220  0.167676      0.972623  0.106470\n",
              "8   0.953822  0.163964      0.972678  0.107391\n",
              "9   0.955315  0.160435      0.973660  0.104333\n",
              "10  0.955870  0.159602      0.973682  0.105471\n",
              "11  0.956759  0.156551      0.974796  0.103416\n",
              "12  0.957026  0.154638      0.972987  0.103511\n",
              "13  0.958420  0.152850      0.975116  0.098370\n",
              "14  0.958394  0.151383      0.975469  0.099337\n",
              "15  0.958953  0.149758      0.973604  0.100506\n",
              "16  0.959533  0.148404      0.973924  0.103896"
            ],
            "text/html": [
              "\n",
              "  <div id=\"df-83aae300-57dd-4877-b2a5-c4b76afc5065\" class=\"colab-df-container\">\n",
              "    <div>\n",
              "<style scoped>\n",
              "    .dataframe tbody tr th:only-of-type {\n",
              "        vertical-align: middle;\n",
              "    }\n",
              "\n",
              "    .dataframe tbody tr th {\n",
              "        vertical-align: top;\n",
              "    }\n",
              "\n",
              "    .dataframe thead th {\n",
              "        text-align: right;\n",
              "    }\n",
              "</style>\n",
              "<table border=\"1\" class=\"dataframe\">\n",
              "  <thead>\n",
              "    <tr style=\"text-align: right;\">\n",
              "      <th></th>\n",
              "      <th>accuracy</th>\n",
              "      <th>loss</th>\n",
              "      <th>val_accuracy</th>\n",
              "      <th>val_loss</th>\n",
              "    </tr>\n",
              "  </thead>\n",
              "  <tbody>\n",
              "    <tr>\n",
              "      <th>0</th>\n",
              "      <td>0.842296</td>\n",
              "      <td>0.502098</td>\n",
              "      <td>0.955912</td>\n",
              "      <td>0.159390</td>\n",
              "    </tr>\n",
              "    <tr>\n",
              "      <th>1</th>\n",
              "      <td>0.923759</td>\n",
              "      <td>0.260971</td>\n",
              "      <td>0.966578</td>\n",
              "      <td>0.125800</td>\n",
              "    </tr>\n",
              "    <tr>\n",
              "      <th>2</th>\n",
              "      <td>0.936525</td>\n",
              "      <td>0.219445</td>\n",
              "      <td>0.967494</td>\n",
              "      <td>0.125083</td>\n",
              "    </tr>\n",
              "    <tr>\n",
              "      <th>3</th>\n",
              "      <td>0.942843</td>\n",
              "      <td>0.200806</td>\n",
              "      <td>0.967108</td>\n",
              "      <td>0.122278</td>\n",
              "    </tr>\n",
              "    <tr>\n",
              "      <th>4</th>\n",
              "      <td>0.946651</td>\n",
              "      <td>0.188646</td>\n",
              "      <td>0.969303</td>\n",
              "      <td>0.118165</td>\n",
              "    </tr>\n",
              "    <tr>\n",
              "      <th>5</th>\n",
              "      <td>0.949501</td>\n",
              "      <td>0.179973</td>\n",
              "      <td>0.971729</td>\n",
              "      <td>0.110425</td>\n",
              "    </tr>\n",
              "    <tr>\n",
              "      <th>6</th>\n",
              "      <td>0.950959</td>\n",
              "      <td>0.173497</td>\n",
              "      <td>0.972579</td>\n",
              "      <td>0.109186</td>\n",
              "    </tr>\n",
              "    <tr>\n",
              "      <th>7</th>\n",
              "      <td>0.953220</td>\n",
              "      <td>0.167676</td>\n",
              "      <td>0.972623</td>\n",
              "      <td>0.106470</td>\n",
              "    </tr>\n",
              "    <tr>\n",
              "      <th>8</th>\n",
              "      <td>0.953822</td>\n",
              "      <td>0.163964</td>\n",
              "      <td>0.972678</td>\n",
              "      <td>0.107391</td>\n",
              "    </tr>\n",
              "    <tr>\n",
              "      <th>9</th>\n",
              "      <td>0.955315</td>\n",
              "      <td>0.160435</td>\n",
              "      <td>0.973660</td>\n",
              "      <td>0.104333</td>\n",
              "    </tr>\n",
              "    <tr>\n",
              "      <th>10</th>\n",
              "      <td>0.955870</td>\n",
              "      <td>0.159602</td>\n",
              "      <td>0.973682</td>\n",
              "      <td>0.105471</td>\n",
              "    </tr>\n",
              "    <tr>\n",
              "      <th>11</th>\n",
              "      <td>0.956759</td>\n",
              "      <td>0.156551</td>\n",
              "      <td>0.974796</td>\n",
              "      <td>0.103416</td>\n",
              "    </tr>\n",
              "    <tr>\n",
              "      <th>12</th>\n",
              "      <td>0.957026</td>\n",
              "      <td>0.154638</td>\n",
              "      <td>0.972987</td>\n",
              "      <td>0.103511</td>\n",
              "    </tr>\n",
              "    <tr>\n",
              "      <th>13</th>\n",
              "      <td>0.958420</td>\n",
              "      <td>0.152850</td>\n",
              "      <td>0.975116</td>\n",
              "      <td>0.098370</td>\n",
              "    </tr>\n",
              "    <tr>\n",
              "      <th>14</th>\n",
              "      <td>0.958394</td>\n",
              "      <td>0.151383</td>\n",
              "      <td>0.975469</td>\n",
              "      <td>0.099337</td>\n",
              "    </tr>\n",
              "    <tr>\n",
              "      <th>15</th>\n",
              "      <td>0.958953</td>\n",
              "      <td>0.149758</td>\n",
              "      <td>0.973604</td>\n",
              "      <td>0.100506</td>\n",
              "    </tr>\n",
              "    <tr>\n",
              "      <th>16</th>\n",
              "      <td>0.959533</td>\n",
              "      <td>0.148404</td>\n",
              "      <td>0.973924</td>\n",
              "      <td>0.103896</td>\n",
              "    </tr>\n",
              "  </tbody>\n",
              "</table>\n",
              "</div>\n",
              "    <div class=\"colab-df-buttons\">\n",
              "\n",
              "  <div class=\"colab-df-container\">\n",
              "    <button class=\"colab-df-convert\" onclick=\"convertToInteractive('df-83aae300-57dd-4877-b2a5-c4b76afc5065')\"\n",
              "            title=\"Convert this dataframe to an interactive table.\"\n",
              "            style=\"display:none;\">\n",
              "\n",
              "  <svg xmlns=\"http://www.w3.org/2000/svg\" height=\"24px\" viewBox=\"0 -960 960 960\">\n",
              "    <path d=\"M120-120v-720h720v720H120Zm60-500h600v-160H180v160Zm220 220h160v-160H400v160Zm0 220h160v-160H400v160ZM180-400h160v-160H180v160Zm440 0h160v-160H620v160ZM180-180h160v-160H180v160Zm440 0h160v-160H620v160Z\"/>\n",
              "  </svg>\n",
              "    </button>\n",
              "\n",
              "  <style>\n",
              "    .colab-df-container {\n",
              "      display:flex;\n",
              "      gap: 12px;\n",
              "    }\n",
              "\n",
              "    .colab-df-convert {\n",
              "      background-color: #E8F0FE;\n",
              "      border: none;\n",
              "      border-radius: 50%;\n",
              "      cursor: pointer;\n",
              "      display: none;\n",
              "      fill: #1967D2;\n",
              "      height: 32px;\n",
              "      padding: 0 0 0 0;\n",
              "      width: 32px;\n",
              "    }\n",
              "\n",
              "    .colab-df-convert:hover {\n",
              "      background-color: #E2EBFA;\n",
              "      box-shadow: 0px 1px 2px rgba(60, 64, 67, 0.3), 0px 1px 3px 1px rgba(60, 64, 67, 0.15);\n",
              "      fill: #174EA6;\n",
              "    }\n",
              "\n",
              "    .colab-df-buttons div {\n",
              "      margin-bottom: 4px;\n",
              "    }\n",
              "\n",
              "    [theme=dark] .colab-df-convert {\n",
              "      background-color: #3B4455;\n",
              "      fill: #D2E3FC;\n",
              "    }\n",
              "\n",
              "    [theme=dark] .colab-df-convert:hover {\n",
              "      background-color: #434B5C;\n",
              "      box-shadow: 0px 1px 3px 1px rgba(0, 0, 0, 0.15);\n",
              "      filter: drop-shadow(0px 1px 2px rgba(0, 0, 0, 0.3));\n",
              "      fill: #FFFFFF;\n",
              "    }\n",
              "  </style>\n",
              "\n",
              "    <script>\n",
              "      const buttonEl =\n",
              "        document.querySelector('#df-83aae300-57dd-4877-b2a5-c4b76afc5065 button.colab-df-convert');\n",
              "      buttonEl.style.display =\n",
              "        google.colab.kernel.accessAllowed ? 'block' : 'none';\n",
              "\n",
              "      async function convertToInteractive(key) {\n",
              "        const element = document.querySelector('#df-83aae300-57dd-4877-b2a5-c4b76afc5065');\n",
              "        const dataTable =\n",
              "          await google.colab.kernel.invokeFunction('convertToInteractive',\n",
              "                                                    [key], {});\n",
              "        if (!dataTable) return;\n",
              "\n",
              "        const docLinkHtml = 'Like what you see? Visit the ' +\n",
              "          '<a target=\"_blank\" href=https://colab.research.google.com/notebooks/data_table.ipynb>data table notebook</a>'\n",
              "          + ' to learn more about interactive tables.';\n",
              "        element.innerHTML = '';\n",
              "        dataTable['output_type'] = 'display_data';\n",
              "        await google.colab.output.renderOutput(dataTable, element);\n",
              "        const docLink = document.createElement('div');\n",
              "        docLink.innerHTML = docLinkHtml;\n",
              "        element.appendChild(docLink);\n",
              "      }\n",
              "    </script>\n",
              "  </div>\n",
              "\n",
              "\n",
              "    <div id=\"df-858793ae-8b58-4b84-aebd-3affaaf60f39\">\n",
              "      <button class=\"colab-df-quickchart\" onclick=\"quickchart('df-858793ae-8b58-4b84-aebd-3affaaf60f39')\"\n",
              "                title=\"Suggest charts\"\n",
              "                style=\"display:none;\">\n",
              "\n",
              "<svg xmlns=\"http://www.w3.org/2000/svg\" height=\"24px\"viewBox=\"0 0 24 24\"\n",
              "     width=\"24px\">\n",
              "    <g>\n",
              "        <path d=\"M19 3H5c-1.1 0-2 .9-2 2v14c0 1.1.9 2 2 2h14c1.1 0 2-.9 2-2V5c0-1.1-.9-2-2-2zM9 17H7v-7h2v7zm4 0h-2V7h2v10zm4 0h-2v-4h2v4z\"/>\n",
              "    </g>\n",
              "</svg>\n",
              "      </button>\n",
              "\n",
              "<style>\n",
              "  .colab-df-quickchart {\n",
              "      --bg-color: #E8F0FE;\n",
              "      --fill-color: #1967D2;\n",
              "      --hover-bg-color: #E2EBFA;\n",
              "      --hover-fill-color: #174EA6;\n",
              "      --disabled-fill-color: #AAA;\n",
              "      --disabled-bg-color: #DDD;\n",
              "  }\n",
              "\n",
              "  [theme=dark] .colab-df-quickchart {\n",
              "      --bg-color: #3B4455;\n",
              "      --fill-color: #D2E3FC;\n",
              "      --hover-bg-color: #434B5C;\n",
              "      --hover-fill-color: #FFFFFF;\n",
              "      --disabled-bg-color: #3B4455;\n",
              "      --disabled-fill-color: #666;\n",
              "  }\n",
              "\n",
              "  .colab-df-quickchart {\n",
              "    background-color: var(--bg-color);\n",
              "    border: none;\n",
              "    border-radius: 50%;\n",
              "    cursor: pointer;\n",
              "    display: none;\n",
              "    fill: var(--fill-color);\n",
              "    height: 32px;\n",
              "    padding: 0;\n",
              "    width: 32px;\n",
              "  }\n",
              "\n",
              "  .colab-df-quickchart:hover {\n",
              "    background-color: var(--hover-bg-color);\n",
              "    box-shadow: 0 1px 2px rgba(60, 64, 67, 0.3), 0 1px 3px 1px rgba(60, 64, 67, 0.15);\n",
              "    fill: var(--button-hover-fill-color);\n",
              "  }\n",
              "\n",
              "  .colab-df-quickchart-complete:disabled,\n",
              "  .colab-df-quickchart-complete:disabled:hover {\n",
              "    background-color: var(--disabled-bg-color);\n",
              "    fill: var(--disabled-fill-color);\n",
              "    box-shadow: none;\n",
              "  }\n",
              "\n",
              "  .colab-df-spinner {\n",
              "    border: 2px solid var(--fill-color);\n",
              "    border-color: transparent;\n",
              "    border-bottom-color: var(--fill-color);\n",
              "    animation:\n",
              "      spin 1s steps(1) infinite;\n",
              "  }\n",
              "\n",
              "  @keyframes spin {\n",
              "    0% {\n",
              "      border-color: transparent;\n",
              "      border-bottom-color: var(--fill-color);\n",
              "      border-left-color: var(--fill-color);\n",
              "    }\n",
              "    20% {\n",
              "      border-color: transparent;\n",
              "      border-left-color: var(--fill-color);\n",
              "      border-top-color: var(--fill-color);\n",
              "    }\n",
              "    30% {\n",
              "      border-color: transparent;\n",
              "      border-left-color: var(--fill-color);\n",
              "      border-top-color: var(--fill-color);\n",
              "      border-right-color: var(--fill-color);\n",
              "    }\n",
              "    40% {\n",
              "      border-color: transparent;\n",
              "      border-right-color: var(--fill-color);\n",
              "      border-top-color: var(--fill-color);\n",
              "    }\n",
              "    60% {\n",
              "      border-color: transparent;\n",
              "      border-right-color: var(--fill-color);\n",
              "    }\n",
              "    80% {\n",
              "      border-color: transparent;\n",
              "      border-right-color: var(--fill-color);\n",
              "      border-bottom-color: var(--fill-color);\n",
              "    }\n",
              "    90% {\n",
              "      border-color: transparent;\n",
              "      border-bottom-color: var(--fill-color);\n",
              "    }\n",
              "  }\n",
              "</style>\n",
              "\n",
              "      <script>\n",
              "        async function quickchart(key) {\n",
              "          const quickchartButtonEl =\n",
              "            document.querySelector('#' + key + ' button');\n",
              "          quickchartButtonEl.disabled = true;  // To prevent multiple clicks.\n",
              "          quickchartButtonEl.classList.add('colab-df-spinner');\n",
              "          try {\n",
              "            const charts = await google.colab.kernel.invokeFunction(\n",
              "                'suggestCharts', [key], {});\n",
              "          } catch (error) {\n",
              "            console.error('Error during call to suggestCharts:', error);\n",
              "          }\n",
              "          quickchartButtonEl.classList.remove('colab-df-spinner');\n",
              "          quickchartButtonEl.classList.add('colab-df-quickchart-complete');\n",
              "        }\n",
              "        (() => {\n",
              "          let quickchartButtonEl =\n",
              "            document.querySelector('#df-858793ae-8b58-4b84-aebd-3affaaf60f39 button');\n",
              "          quickchartButtonEl.style.display =\n",
              "            google.colab.kernel.accessAllowed ? 'block' : 'none';\n",
              "        })();\n",
              "      </script>\n",
              "    </div>\n",
              "\n",
              "  <div id=\"id_17c4df19-0c25-4225-b474-946ae0cfc61d\">\n",
              "    <style>\n",
              "      .colab-df-generate {\n",
              "        background-color: #E8F0FE;\n",
              "        border: none;\n",
              "        border-radius: 50%;\n",
              "        cursor: pointer;\n",
              "        display: none;\n",
              "        fill: #1967D2;\n",
              "        height: 32px;\n",
              "        padding: 0 0 0 0;\n",
              "        width: 32px;\n",
              "      }\n",
              "\n",
              "      .colab-df-generate:hover {\n",
              "        background-color: #E2EBFA;\n",
              "        box-shadow: 0px 1px 2px rgba(60, 64, 67, 0.3), 0px 1px 3px 1px rgba(60, 64, 67, 0.15);\n",
              "        fill: #174EA6;\n",
              "      }\n",
              "\n",
              "      [theme=dark] .colab-df-generate {\n",
              "        background-color: #3B4455;\n",
              "        fill: #D2E3FC;\n",
              "      }\n",
              "\n",
              "      [theme=dark] .colab-df-generate:hover {\n",
              "        background-color: #434B5C;\n",
              "        box-shadow: 0px 1px 3px 1px rgba(0, 0, 0, 0.15);\n",
              "        filter: drop-shadow(0px 1px 2px rgba(0, 0, 0, 0.3));\n",
              "        fill: #FFFFFF;\n",
              "      }\n",
              "    </style>\n",
              "    <button class=\"colab-df-generate\" onclick=\"generateWithVariable('losses2')\"\n",
              "            title=\"Generate code using this dataframe.\"\n",
              "            style=\"display:none;\">\n",
              "\n",
              "  <svg xmlns=\"http://www.w3.org/2000/svg\" height=\"24px\"viewBox=\"0 0 24 24\"\n",
              "       width=\"24px\">\n",
              "    <path d=\"M7,19H8.4L18.45,9,17,7.55,7,17.6ZM5,21V16.75L18.45,3.32a2,2,0,0,1,2.83,0l1.4,1.43a1.91,1.91,0,0,1,.58,1.4,1.91,1.91,0,0,1-.58,1.4L9.25,21ZM18.45,9,17,7.55Zm-12,3A5.31,5.31,0,0,0,4.9,8.1,5.31,5.31,0,0,0,1,6.5,5.31,5.31,0,0,0,4.9,4.9,5.31,5.31,0,0,0,6.5,1,5.31,5.31,0,0,0,8.1,4.9,5.31,5.31,0,0,0,12,6.5,5.46,5.46,0,0,0,6.5,12Z\"/>\n",
              "  </svg>\n",
              "    </button>\n",
              "    <script>\n",
              "      (() => {\n",
              "      const buttonEl =\n",
              "        document.querySelector('#id_17c4df19-0c25-4225-b474-946ae0cfc61d button.colab-df-generate');\n",
              "      buttonEl.style.display =\n",
              "        google.colab.kernel.accessAllowed ? 'block' : 'none';\n",
              "\n",
              "      buttonEl.onclick = () => {\n",
              "        google.colab.notebook.generateWithVariable('losses2');\n",
              "      }\n",
              "      })();\n",
              "    </script>\n",
              "  </div>\n",
              "\n",
              "    </div>\n",
              "  </div>\n"
            ],
            "application/vnd.google.colaboratory.intrinsic+json": {
              "type": "dataframe",
              "variable_name": "losses2",
              "summary": "{\n  \"name\": \"losses2\",\n  \"rows\": 17,\n  \"fields\": [\n    {\n      \"column\": \"accuracy\",\n      \"properties\": {\n        \"dtype\": \"number\",\n        \"std\": 0.02800768216527189,\n        \"min\": 0.8422962427139282,\n        \"max\": 0.959533154964447,\n        \"num_unique_values\": 17,\n        \"samples\": [\n          0.8422962427139282,\n          0.923759400844574,\n          0.9495006203651428\n        ],\n        \"semantic_type\": \"\",\n        \"description\": \"\"\n      }\n    },\n    {\n      \"column\": \"loss\",\n      \"properties\": {\n        \"dtype\": \"number\",\n        \"std\": 0.08483395289019424,\n        \"min\": 0.14840351045131683,\n        \"max\": 0.5020982623100281,\n        \"num_unique_values\": 17,\n        \"samples\": [\n          0.5020982623100281,\n          0.2609705626964569,\n          0.17997299134731293\n        ],\n        \"semantic_type\": \"\",\n        \"description\": \"\"\n      }\n    },\n    {\n      \"column\": \"val_accuracy\",\n      \"properties\": {\n        \"dtype\": \"number\",\n        \"std\": 0.004812564860261253,\n        \"min\": 0.9559116959571838,\n        \"max\": 0.9754685163497925,\n        \"num_unique_values\": 17,\n        \"samples\": [\n          0.9559116959571838,\n          0.9665780663490295,\n          0.9717292189598083\n        ],\n        \"semantic_type\": \"\",\n        \"description\": \"\"\n      }\n    },\n    {\n      \"column\": \"val_loss\",\n      \"properties\": {\n        \"dtype\": \"number\",\n        \"std\": 0.015009037066921395,\n        \"min\": 0.09837007522583008,\n        \"max\": 0.15939046442508698,\n        \"num_unique_values\": 17,\n        \"samples\": [\n          0.15939046442508698,\n          0.12580035626888275,\n          0.11042504012584686\n        ],\n        \"semantic_type\": \"\",\n        \"description\": \"\"\n      }\n    }\n  ]\n}"
            }
          },
          "metadata": {},
          "execution_count": 84
        }
      ]
    },
    {
      "cell_type": "code",
      "source": [
        "losses2[['accuracy','val_accuracy']].plot()"
      ],
      "metadata": {
        "colab": {
          "base_uri": "https://localhost:8080/",
          "height": 447
        },
        "id": "-oSCZqo5sKsZ",
        "outputId": "e534f77a-5d48-40b5-8f2b-82fdb62ca7ec"
      },
      "execution_count": null,
      "outputs": [
        {
          "output_type": "execute_result",
          "data": {
            "text/plain": [
              "<Axes: >"
            ]
          },
          "metadata": {},
          "execution_count": 85
        },
        {
          "output_type": "display_data",
          "data": {
            "text/plain": [
              "<Figure size 640x480 with 1 Axes>"
            ],
            "image/png": "[encoded data removed]"
          },
          "metadata": {}
        }
      ]
    },
    {
      "cell_type": "code",
      "source": [
        "losses2[['loss','val_loss']].plot()"
      ],
      "metadata": {
        "colab": {
          "base_uri": "https://localhost:8080/",
          "height": 447
        },
        "id": "bQUPj_mpsTSr",
        "outputId": "3c396c07-46da-4b60-b1ee-e736f28eb85e"
      },
      "execution_count": null,
      "outputs": [
        {
          "output_type": "execute_result",
          "data": {
            "text/plain": [
              "<Axes: >"
            ]
          },
          "metadata": {},
          "execution_count": 86
        },
        {
          "output_type": "display_data",
          "data": {
            "text/plain": [
              "<Figure size 640x480 with 1 Axes>"
            ],
            "image/png": "[encoded data removed]"
          },
          "metadata": {}
        }
      ]
    },
    {
      "cell_type": "code",
      "source": [
        "predictions2 = model2.predict(test_images_gray)"
      ],
      "metadata": {
        "colab": {
          "base_uri": "https://localhost:8080/"
        },
        "id": "gm1eBKZ_sdNr",
        "outputId": "36f949a1-e4ed-421d-b911-0d1fd12603d6"
      },
      "execution_count": null,
      "outputs": [
        {
          "output_type": "stream",
          "name": "stdout",
          "text": [
            "\u001b[1m814/814\u001b[0m \u001b[32m━━━━━━━━━━━━━━━━━━━━\u001b[0m\u001b[37m\u001b[0m \u001b[1m2s\u001b[0m 2ms/step\n"
          ]
        }
      ]
    },
    {
      "cell_type": "code",
      "source": [
        "predictions2"
      ],
      "metadata": {
        "colab": {
          "base_uri": "https://localhost:8080/"
        },
        "id": "UF2LNACfsiZ6",
        "outputId": "267af541-d7b8-4c31-c734-9d1ec5888064"
      },
      "execution_count": null,
      "outputs": [
        {
          "output_type": "execute_result",
          "data": {
            "text/plain": [
              "array([[5.2060019e-09, 4.3295935e-07, 1.9128575e-07, ..., 5.7688095e-07,\n",
              "        2.2260602e-09, 2.5183297e-07],\n",
              "       [9.9598385e-11, 4.6322217e-08, 9.9999964e-01, ..., 1.1171285e-07,\n",
              "        1.4305229e-10, 2.2930874e-10],\n",
              "       [2.7705939e-06, 9.9817336e-01, 1.3308752e-06, ..., 1.1998583e-05,\n",
              "        2.5519222e-07, 4.2033093e-07],\n",
              "       ...,\n",
              "       [6.9868920e-09, 2.2034372e-05, 7.8806333e-06, ..., 9.9996006e-01,\n",
              "        1.6232604e-10, 1.9304376e-07],\n",
              "       [5.6024688e-05, 4.0376702e-07, 2.0019315e-09, ..., 5.9883138e-09,\n",
              "        1.3196832e-06, 3.2170625e-08],\n",
              "       [6.8687855e-10, 3.7536487e-05, 7.8305834e-07, ..., 9.9996173e-01,\n",
              "        1.6771548e-12, 6.2388050e-09]], dtype=float32)"
            ]
          },
          "metadata": {},
          "execution_count": 89
        }
      ]
    },
    {
      "cell_type": "code",
      "source": [
        "pred2_binary = predictions2 > 0.5"
      ],
      "metadata": {
        "id": "K2GXHn3Fsjji"
      },
      "execution_count": null,
      "outputs": []
    },
    {
      "cell_type": "code",
      "source": [
        "pred2_binary"
      ],
      "metadata": {
        "colab": {
          "base_uri": "https://localhost:8080/"
        },
        "id": "uHBZZprusvD2",
        "outputId": "845e2eb2-ea2d-4939-b0fb-a620761e1db0"
      },
      "execution_count": null,
      "outputs": [
        {
          "output_type": "execute_result",
          "data": {
            "text/plain": [
              "array([[False, False, False, ..., False, False, False],\n",
              "       [False, False,  True, ..., False, False, False],\n",
              "       [False,  True, False, ..., False, False, False],\n",
              "       ...,\n",
              "       [False, False, False, ...,  True, False, False],\n",
              "       [False, False, False, ..., False, False, False],\n",
              "       [False, False, False, ...,  True, False, False]])"
            ]
          },
          "metadata": {},
          "execution_count": 97
        }
      ]
    },
    {
      "cell_type": "code",
      "source": [
        "pred2_class = np.argmax(predictions2, axis=1)"
      ],
      "metadata": {
        "id": "wlMIPNC8stzB"
      },
      "execution_count": null,
      "outputs": []
    },
    {
      "cell_type": "code",
      "source": [
        "pred2_class"
      ],
      "metadata": {
        "colab": {
          "base_uri": "https://localhost:8080/"
        },
        "id": "A-U-oumMs_tZ",
        "outputId": "ba02bda0-c7fa-4d77-fda0-1d7d03a49e2c"
      },
      "execution_count": null,
      "outputs": [
        {
          "output_type": "execute_result",
          "data": {
            "text/plain": [
              "array([5, 2, 1, ..., 7, 6, 7])"
            ]
          },
          "metadata": {},
          "execution_count": 104
        }
      ]
    },
    {
      "cell_type": "code",
      "source": [
        "print(classification_report(test_labels,pred2_class))"
      ],
      "metadata": {
        "colab": {
          "base_uri": "https://localhost:8080/"
        },
        "id": "n8bzPgNutMgX",
        "outputId": "a54b9c2d-5649-4de0-9818-c03c4e4259d7"
      },
      "execution_count": null,
      "outputs": [
        {
          "output_type": "stream",
          "name": "stdout",
          "text": [
            "              precision    recall  f1-score   support\n",
            "\n",
            "           0       0.93      0.96      0.95      1744\n",
            "           1       0.97      0.96      0.97      5099\n",
            "           2       0.97      0.98      0.97      4149\n",
            "           3       0.94      0.95      0.94      2882\n",
            "           4       0.96      0.97      0.97      2523\n",
            "           5       0.96      0.95      0.95      2384\n",
            "           6       0.95      0.95      0.95      1977\n",
            "           7       0.96      0.95      0.96      2019\n",
            "           8       0.95      0.92      0.94      1660\n",
            "           9       0.95      0.92      0.94      1595\n",
            "\n",
            "    accuracy                           0.96     26032\n",
            "   macro avg       0.95      0.95      0.95     26032\n",
            "weighted avg       0.96      0.96      0.96     26032\n",
            "\n"
          ]
        }
      ]
    },
    {
      "cell_type": "code",
      "source": [
        "confusion_matrix(test_labels,pred2_class)"
      ],
      "metadata": {
        "colab": {
          "base_uri": "https://localhost:8080/"
        },
        "id": "-jPom_YCtSri",
        "outputId": "d982df89-1fa7-423a-afb5-65b886e3c913"
      },
      "execution_count": null,
      "outputs": [
        {
          "output_type": "execute_result",
          "data": {
            "text/plain": [
              "array([[1679,   10,    7,    8,    1,    7,   21,    4,    0,    7],\n",
              "       [  22, 4915,   25,   27,   38,   11,   11,   37,    7,    6],\n",
              "       [   5,   16, 4056,   16,   10,    8,    5,   24,    4,    5],\n",
              "       [   5,   20,   24, 2729,    6,   33,   10,    6,   21,   28],\n",
              "       [   6,   28,   16,    5, 2447,    3,    3,    4,    3,    8],\n",
              "       [   5,   14,    6,   54,    5, 2268,   19,    1,    9,    3],\n",
              "       [  21,   13,    4,    9,    5,   23, 1875,    3,   23,    1],\n",
              "       [   2,   55,   20,   11,    6,    2,    0, 1919,    1,    3],\n",
              "       [  15,    5,   13,   25,   11,    6,   36,    0, 1529,   20],\n",
              "       [  38,   10,   23,   17,    9,    9,    3,    1,   11, 1474]])"
            ]
          },
          "metadata": {},
          "execution_count": 106
        }
      ]
    },
    {
      "cell_type": "code",
      "source": [
        "sns.heatmap(confusion_matrix(test_labels,pred_class),annot=True)"
      ],
      "metadata": {
        "colab": {
          "base_uri": "https://localhost:8080/",
          "height": 447
        },
        "id": "6rb8O1Ftt6HZ",
        "outputId": "bb9219b4-205c-4ceb-86d5-98e786d811e2"
      },
      "execution_count": null,
      "outputs": [
        {
          "output_type": "execute_result",
          "data": {
            "text/plain": [
              "<Axes: >"
            ]
          },
          "metadata": {},
          "execution_count": 107
        },
        {
          "output_type": "display_data",
          "data": {
            "text/plain": [
              "<Figure size 640x480 with 2 Axes>"
            ],
            "image/png": "[encoded data removed]"
          },
          "metadata": {}
        }
      ]
    },
    {
      "cell_type": "code",
      "source": [
        "my_number = test_images_gray[1000]"
      ],
      "metadata": {
        "id": "Ae1h2iMiuDzs"
      },
      "execution_count": null,
      "outputs": []
    },
    {
      "cell_type": "code",
      "source": [
        "plt.imshow(my_number.reshape(32, 32), cmap='gray')"
      ],
      "metadata": {
        "colab": {
          "base_uri": "https://localhost:8080/",
          "height": 447
        },
        "id": "4FSMkRZ3uFQQ",
        "outputId": "cc1f65f2-6509-4b55-8da5-23095ce65520"
      },
      "execution_count": null,
      "outputs": [
        {
          "output_type": "execute_result",
          "data": {
            "text/plain": [
              "<matplotlib.image.AxesImage at 0x7ac14dd7aa90>"
            ]
          },
          "metadata": {},
          "execution_count": 117
        },
        {
          "output_type": "display_data",
          "data": {
            "text/plain": [
              "<Figure size 640x480 with 1 Axes>"
            ],
            "image/png": "[encoded data removed]"
          },
          "metadata": {}
        }
      ]
    },
    {
      "cell_type": "code",
      "source": [
        "model2.predict(my_number.reshape(1, 32, 32, 1))"
      ],
      "metadata": {
        "colab": {
          "base_uri": "https://localhost:8080/"
        },
        "id": "Lxx4f33AuYcR",
        "outputId": "3ff07461-52d9-4acf-d869-6b3e2a97d396"
      },
      "execution_count": null,
      "outputs": [
        {
          "output_type": "stream",
          "name": "stdout",
          "text": [
            "\u001b[1m1/1\u001b[0m \u001b[32m━━━━━━━━━━━━━━━━━━━━\u001b[0m\u001b[37m\u001b[0m \u001b[1m0s\u001b[0m 247ms/step\n"
          ]
        },
        {
          "output_type": "execute_result",
          "data": {
            "text/plain": [
              "array([[4.51854554e-10, 2.19837915e-07, 8.16593959e-10, 9.18656099e-07,\n",
              "        1.22803447e-08, 9.99963164e-01, 3.54813783e-05, 7.46057272e-10,\n",
              "        8.70424888e-09, 1.09917956e-07]], dtype=float32)"
            ]
          },
          "metadata": {},
          "execution_count": 119
        }
      ]
    },
    {
      "cell_type": "code",
      "source": [
        "np.round(model2.predict(my_number.reshape(1, 32, 32, 1)), 2)"
      ],
      "metadata": {
        "colab": {
          "base_uri": "https://localhost:8080/"
        },
        "id": "iO8C01zhue35",
        "outputId": "8f518f28-4eaf-4471-853b-a4c8d31a1d88"
      },
      "execution_count": null,
      "outputs": [
        {
          "output_type": "stream",
          "name": "stdout",
          "text": [
            "\u001b[1m1/1\u001b[0m \u001b[32m━━━━━━━━━━━━━━━━━━━━\u001b[0m\u001b[37m\u001b[0m \u001b[1m0s\u001b[0m 33ms/step\n"
          ]
        },
        {
          "output_type": "execute_result",
          "data": {
            "text/plain": [
              "array([[0., 0., 0., 0., 0., 1., 0., 0., 0., 0.]], dtype=float32)"
            ]
          },
          "metadata": {},
          "execution_count": 120
        }
      ]
    },
    {
      "cell_type": "code",
      "source": [
        "model2.save('data_augmentation_model_full_dataset.keras')"
      ],
      "metadata": {
        "id": "qXwrdL5SunS0"
      },
      "execution_count": null,
      "outputs": []
    },
    {
      "cell_type": "markdown",
      "source": [
        "Adding Batching Normalization"
      ],
      "metadata": {
        "id": "cSF7cHT9v_U2"
      }
    },
    {
      "cell_type": "code",
      "source": [
        "from tensorflow.keras.layers import BatchNormalization, Activation\n",
        "\n",
        "model3 = Sequential()\n",
        "\n",
        "# Convolutional Block 1\n",
        "model3.add(Conv2D(filters=32, kernel_size=(3, 3), padding='same', use_bias=False, input_shape=(32, 32, 1)))\n",
        "model3.add(BatchNormalization())\n",
        "model3.add(Activation('relu'))\n",
        "model3.add(MaxPool2D(pool_size=(2, 2)))\n",
        "\n",
        "# Convolutional Block 2\n",
        "model3.add(Conv2D(filters=64, kernel_size=(3, 3), padding='same', use_bias=False))\n",
        "model3.add(BatchNormalization())\n",
        "model3.add(Activation('relu'))\n",
        "model3.add(MaxPool2D((2, 2)))\n",
        "\n",
        "# Convolutional Block 3\n",
        "model3.add(Conv2D(filters=128, kernel_size=(3, 3), padding='same', use_bias=False))\n",
        "model3.add(BatchNormalization())\n",
        "model3.add(Activation('relu'))\n",
        "model3.add(MaxPool2D((2, 2)))\n",
        "\n",
        "# Fully Connected Layers\n",
        "model3.add(Flatten())\n",
        "model3.add(Dense(units=256, activation='relu'))\n",
        "model3.add(Dropout(rate=0.5))\n",
        "model3.add(Dense(units=10, activation='softmax'))\n",
        "\n",
        "# Compile\n",
        "model3.compile(loss='categorical_crossentropy', optimizer='adam', metrics=['accuracy'])\n"
      ],
      "metadata": {
        "colab": {
          "base_uri": "https://localhost:8080/"
        },
        "id": "rwj0j7hEv-nj",
        "outputId": "72ebe2e2-8310-42e7-eca5-953221e86c7a"
      },
      "execution_count": null,
      "outputs": [
        {
          "output_type": "stream",
          "name": "stderr",
          "text": [
            "/usr/local/lib/python3.11/dist-packages/keras/src/layers/convolutional/base_conv.py:107: UserWarning: Do not pass an `input_shape`/`input_dim` argument to a layer. When using Sequential models, prefer using an `Input(shape)` object as the first layer in the model instead.\n",
            "  super().__init__(activity_regularizer=activity_regularizer, **kwargs)\n"
          ]
        }
      ]
    },
    {
      "cell_type": "code",
      "source": [
        "# Train\n",
        "model3.fit(\n",
        "    train_gen,\n",
        "    epochs=30,\n",
        "    validation_data=val_gen,\n",
        "    callbacks=[early_stop]\n",
        ")"
      ],
      "metadata": {
        "colab": {
          "base_uri": "https://localhost:8080/"
        },
        "id": "NScJlJeNxOXg",
        "outputId": "c27fc2c9-21bb-4c73-e443-94e587716053"
      },
      "execution_count": null,
      "outputs": [
        {
          "output_type": "stream",
          "name": "stdout",
          "text": [
            "Epoch 1/30\n",
            "\u001b[1m8028/8028\u001b[0m \u001b[32m━━━━━━━━━━━━━━━━━━━━\u001b[0m\u001b[37m\u001b[0m \u001b[1m162s\u001b[0m 20ms/step - accuracy: 0.4983 - loss: 1.3425 - val_accuracy: 0.9453 - val_loss: 0.2114\n",
            "Epoch 2/30\n",
            "\u001b[1m8028/8028\u001b[0m \u001b[32m━━━━━━━━━━━━━━━━━━━━\u001b[0m\u001b[37m\u001b[0m \u001b[1m154s\u001b[0m 19ms/step - accuracy: 0.8592 - loss: 0.4366 - val_accuracy: 0.9572 - val_loss: 0.1576\n",
            "Epoch 3/30\n",
            "\u001b[1m8028/8028\u001b[0m \u001b[32m━━━━━━━━━━━━━━━━━━━━\u001b[0m\u001b[37m\u001b[0m \u001b[1m162s\u001b[0m 20ms/step - accuracy: 0.9382 - loss: 0.2218 - val_accuracy: 0.9713 - val_loss: 0.1136\n",
            "Epoch 4/30\n",
            "\u001b[1m8028/8028\u001b[0m \u001b[32m━━━━━━━━━━━━━━━━━━━━\u001b[0m\u001b[37m\u001b[0m \u001b[1m154s\u001b[0m 19ms/step - accuracy: 0.9516 - loss: 0.1760 - val_accuracy: 0.9691 - val_loss: 0.1176\n",
            "Epoch 5/30\n",
            "\u001b[1m8028/8028\u001b[0m \u001b[32m━━━━━━━━━━━━━━━━━━━━\u001b[0m\u001b[37m\u001b[0m \u001b[1m153s\u001b[0m 19ms/step - accuracy: 0.9569 - loss: 0.1581 - val_accuracy: 0.9733 - val_loss: 0.1059\n",
            "Epoch 6/30\n",
            "\u001b[1m8028/8028\u001b[0m \u001b[32m━━━━━━━━━━━━━━━━━━━━\u001b[0m\u001b[37m\u001b[0m \u001b[1m152s\u001b[0m 19ms/step - accuracy: 0.9604 - loss: 0.1464 - val_accuracy: 0.9722 - val_loss: 0.1056\n",
            "Epoch 7/30\n",
            "\u001b[1m8028/8028\u001b[0m \u001b[32m━━━━━━━━━━━━━━━━━━━━\u001b[0m\u001b[37m\u001b[0m \u001b[1m153s\u001b[0m 19ms/step - accuracy: 0.9618 - loss: 0.1398 - val_accuracy: 0.9744 - val_loss: 0.1000\n",
            "Epoch 8/30\n",
            "\u001b[1m8028/8028\u001b[0m \u001b[32m━━━━━━━━━━━━━━━━━━━━\u001b[0m\u001b[37m\u001b[0m \u001b[1m155s\u001b[0m 19ms/step - accuracy: 0.9642 - loss: 0.1336 - val_accuracy: 0.9731 - val_loss: 0.1033\n",
            "Epoch 9/30\n",
            "\u001b[1m8028/8028\u001b[0m \u001b[32m━━━━━━━━━━━━━━━━━━━━\u001b[0m\u001b[37m\u001b[0m \u001b[1m153s\u001b[0m 19ms/step - accuracy: 0.9654 - loss: 0.1288 - val_accuracy: 0.9638 - val_loss: 0.1329\n",
            "Epoch 10/30\n",
            "\u001b[1m8028/8028\u001b[0m \u001b[32m━━━━━━━━━━━━━━━━━━━━\u001b[0m\u001b[37m\u001b[0m \u001b[1m153s\u001b[0m 19ms/step - accuracy: 0.9667 - loss: 0.1237 - val_accuracy: 0.9741 - val_loss: 0.0987\n",
            "Epoch 11/30\n",
            "\u001b[1m8028/8028\u001b[0m \u001b[32m━━━━━━━━━━━━━━━━━━━━\u001b[0m\u001b[37m\u001b[0m \u001b[1m151s\u001b[0m 19ms/step - accuracy: 0.9670 - loss: 0.1239 - val_accuracy: 0.9754 - val_loss: 0.0949\n",
            "Epoch 12/30\n",
            "\u001b[1m8028/8028\u001b[0m \u001b[32m━━━━━━━━━━━━━━━━━━━━\u001b[0m\u001b[37m\u001b[0m \u001b[1m150s\u001b[0m 19ms/step - accuracy: 0.9679 - loss: 0.1210 - val_accuracy: 0.9737 - val_loss: 0.1003\n",
            "Epoch 13/30\n",
            "\u001b[1m8028/8028\u001b[0m \u001b[32m━━━━━━━━━━━━━━━━━━━━\u001b[0m\u001b[37m\u001b[0m \u001b[1m148s\u001b[0m 18ms/step - accuracy: 0.9685 - loss: 0.1192 - val_accuracy: 0.9749 - val_loss: 0.0965\n",
            "Epoch 14/30\n",
            "\u001b[1m8028/8028\u001b[0m \u001b[32m━━━━━━━━━━━━━━━━━━━━\u001b[0m\u001b[37m\u001b[0m \u001b[1m149s\u001b[0m 19ms/step - accuracy: 0.9690 - loss: 0.1164 - val_accuracy: 0.9714 - val_loss: 0.1066\n"
          ]
        },
        {
          "output_type": "execute_result",
          "data": {
            "text/plain": [
              "<keras.src.callbacks.history.History at 0x7ac4ea04a990>"
            ]
          },
          "metadata": {},
          "execution_count": 130
        }
      ]
    },
    {
      "cell_type": "code",
      "source": [
        "model3.metrics_names # Check the metric names"
      ],
      "metadata": {
        "colab": {
          "base_uri": "https://localhost:8080/"
        },
        "id": "X7caGYyd1OD8",
        "outputId": "4ad0c7d0-47e6-4c8e-e72f-bf1c8908ad19"
      },
      "execution_count": null,
      "outputs": [
        {
          "output_type": "execute_result",
          "data": {
            "text/plain": [
              "['loss', 'compile_metrics']"
            ]
          },
          "metadata": {},
          "execution_count": 133
        }
      ]
    },
    {
      "cell_type": "code",
      "source": [
        "losses3 = pd.DataFrame(model3.history.history)"
      ],
      "metadata": {
        "id": "JIc2rsg91PXx"
      },
      "execution_count": null,
      "outputs": []
    },
    {
      "cell_type": "code",
      "source": [
        "losses3"
      ],
      "metadata": {
        "colab": {
          "base_uri": "https://localhost:8080/",
          "height": 488
        },
        "id": "ZzgrjYue5mat",
        "outputId": "603e9f61-5760-41b8-c38a-19804f6bfc10"
      },
      "execution_count": null,
      "outputs": [
        {
          "output_type": "execute_result",
          "data": {
            "text/plain": [
              "    accuracy      loss  val_accuracy  val_loss\n",
              "0   0.625666  1.002552      0.945334  0.211423\n",
              "1   0.891234  0.353513      0.957158  0.157647\n",
              "2   0.942843  0.207207      0.971332  0.113594\n",
              "3   0.952714  0.172306      0.969126  0.117628\n",
              "4   0.957357  0.156275      0.973284  0.105890\n",
              "5   0.960697  0.144803      0.972181  0.105557\n",
              "6   0.962375  0.138645      0.974365  0.100029\n",
              "7   0.964549  0.132129      0.973141  0.103281\n",
              "8   0.965544  0.128588      0.963798  0.132867\n",
              "9   0.966360  0.125442      0.974123  0.098695\n",
              "10  0.967125  0.122985      0.975435  0.094902\n",
              "11  0.967582  0.120684      0.973671  0.100347\n",
              "12  0.968552  0.117752      0.974939  0.096470\n",
              "13  0.968941  0.116763      0.971420  0.106648"
            ],
            "text/html": [
              "\n",
              "  <div id=\"df-13a32f1e-ee55-44a1-b5eb-31e86dd35748\" class=\"colab-df-container\">\n",
              "    <div>\n",
              "<style scoped>\n",
              "    .dataframe tbody tr th:only-of-type {\n",
              "        vertical-align: middle;\n",
              "    }\n",
              "\n",
              "    .dataframe tbody tr th {\n",
              "        vertical-align: top;\n",
              "    }\n",
              "\n",
              "    .dataframe thead th {\n",
              "        text-align: right;\n",
              "    }\n",
              "</style>\n",
              "<table border=\"1\" class=\"dataframe\">\n",
              "  <thead>\n",
              "    <tr style=\"text-align: right;\">\n",
              "      <th></th>\n",
              "      <th>accuracy</th>\n",
              "      <th>loss</th>\n",
              "      <th>val_accuracy</th>\n",
              "      <th>val_loss</th>\n",
              "    </tr>\n",
              "  </thead>\n",
              "  <tbody>\n",
              "    <tr>\n",
              "      <th>0</th>\n",
              "      <td>0.625666</td>\n",
              "      <td>1.002552</td>\n",
              "      <td>0.945334</td>\n",
              "      <td>0.211423</td>\n",
              "    </tr>\n",
              "    <tr>\n",
              "      <th>1</th>\n",
              "      <td>0.891234</td>\n",
              "      <td>0.353513</td>\n",
              "      <td>0.957158</td>\n",
              "      <td>0.157647</td>\n",
              "    </tr>\n",
              "    <tr>\n",
              "      <th>2</th>\n",
              "      <td>0.942843</td>\n",
              "      <td>0.207207</td>\n",
              "      <td>0.971332</td>\n",
              "      <td>0.113594</td>\n",
              "    </tr>\n",
              "    <tr>\n",
              "      <th>3</th>\n",
              "      <td>0.952714</td>\n",
              "      <td>0.172306</td>\n",
              "      <td>0.969126</td>\n",
              "      <td>0.117628</td>\n",
              "    </tr>\n",
              "    <tr>\n",
              "      <th>4</th>\n",
              "      <td>0.957357</td>\n",
              "      <td>0.156275</td>\n",
              "      <td>0.973284</td>\n",
              "      <td>0.105890</td>\n",
              "    </tr>\n",
              "    <tr>\n",
              "      <th>5</th>\n",
              "      <td>0.960697</td>\n",
              "      <td>0.144803</td>\n",
              "      <td>0.972181</td>\n",
              "      <td>0.105557</td>\n",
              "    </tr>\n",
              "    <tr>\n",
              "      <th>6</th>\n",
              "      <td>0.962375</td>\n",
              "      <td>0.138645</td>\n",
              "      <td>0.974365</td>\n",
              "      <td>0.100029</td>\n",
              "    </tr>\n",
              "    <tr>\n",
              "      <th>7</th>\n",
              "      <td>0.964549</td>\n",
              "      <td>0.132129</td>\n",
              "      <td>0.973141</td>\n",
              "      <td>0.103281</td>\n",
              "    </tr>\n",
              "    <tr>\n",
              "      <th>8</th>\n",
              "      <td>0.965544</td>\n",
              "      <td>0.128588</td>\n",
              "      <td>0.963798</td>\n",
              "      <td>0.132867</td>\n",
              "    </tr>\n",
              "    <tr>\n",
              "      <th>9</th>\n",
              "      <td>0.966360</td>\n",
              "      <td>0.125442</td>\n",
              "      <td>0.974123</td>\n",
              "      <td>0.098695</td>\n",
              "    </tr>\n",
              "    <tr>\n",
              "      <th>10</th>\n",
              "      <td>0.967125</td>\n",
              "      <td>0.122985</td>\n",
              "      <td>0.975435</td>\n",
              "      <td>0.094902</td>\n",
              "    </tr>\n",
              "    <tr>\n",
              "      <th>11</th>\n",
              "      <td>0.967582</td>\n",
              "      <td>0.120684</td>\n",
              "      <td>0.973671</td>\n",
              "      <td>0.100347</td>\n",
              "    </tr>\n",
              "    <tr>\n",
              "      <th>12</th>\n",
              "      <td>0.968552</td>\n",
              "      <td>0.117752</td>\n",
              "      <td>0.974939</td>\n",
              "      <td>0.096470</td>\n",
              "    </tr>\n",
              "    <tr>\n",
              "      <th>13</th>\n",
              "      <td>0.968941</td>\n",
              "      <td>0.116763</td>\n",
              "      <td>0.971420</td>\n",
              "      <td>0.106648</td>\n",
              "    </tr>\n",
              "  </tbody>\n",
              "</table>\n",
              "</div>\n",
              "    <div class=\"colab-df-buttons\">\n",
              "\n",
              "  <div class=\"colab-df-container\">\n",
              "    <button class=\"colab-df-convert\" onclick=\"convertToInteractive('df-13a32f1e-ee55-44a1-b5eb-31e86dd35748')\"\n",
              "            title=\"Convert this dataframe to an interactive table.\"\n",
              "            style=\"display:none;\">\n",
              "\n",
              "  <svg xmlns=\"http://www.w3.org/2000/svg\" height=\"24px\" viewBox=\"0 -960 960 960\">\n",
              "    <path d=\"M120-120v-720h720v720H120Zm60-500h600v-160H180v160Zm220 220h160v-160H400v160Zm0 220h160v-160H400v160ZM180-400h160v-160H180v160Zm440 0h160v-160H620v160ZM180-180h160v-160H180v160Zm440 0h160v-160H620v160Z\"/>\n",
              "  </svg>\n",
              "    </button>\n",
              "\n",
              "  <style>\n",
              "    .colab-df-container {\n",
              "      display:flex;\n",
              "      gap: 12px;\n",
              "    }\n",
              "\n",
              "    .colab-df-convert {\n",
              "      background-color: #E8F0FE;\n",
              "      border: none;\n",
              "      border-radius: 50%;\n",
              "      cursor: pointer;\n",
              "      display: none;\n",
              "      fill: #1967D2;\n",
              "      height: 32px;\n",
              "      padding: 0 0 0 0;\n",
              "      width: 32px;\n",
              "    }\n",
              "\n",
              "    .colab-df-convert:hover {\n",
              "      background-color: #E2EBFA;\n",
              "      box-shadow: 0px 1px 2px rgba(60, 64, 67, 0.3), 0px 1px 3px 1px rgba(60, 64, 67, 0.15);\n",
              "      fill: #174EA6;\n",
              "    }\n",
              "\n",
              "    .colab-df-buttons div {\n",
              "      margin-bottom: 4px;\n",
              "    }\n",
              "\n",
              "    [theme=dark] .colab-df-convert {\n",
              "      background-color: #3B4455;\n",
              "      fill: #D2E3FC;\n",
              "    }\n",
              "\n",
              "    [theme=dark] .colab-df-convert:hover {\n",
              "      background-color: #434B5C;\n",
              "      box-shadow: 0px 1px 3px 1px rgba(0, 0, 0, 0.15);\n",
              "      filter: drop-shadow(0px 1px 2px rgba(0, 0, 0, 0.3));\n",
              "      fill: #FFFFFF;\n",
              "    }\n",
              "  </style>\n",
              "\n",
              "    <script>\n",
              "      const buttonEl =\n",
              "        document.querySelector('#df-13a32f1e-ee55-44a1-b5eb-31e86dd35748 button.colab-df-convert');\n",
              "      buttonEl.style.display =\n",
              "        google.colab.kernel.accessAllowed ? 'block' : 'none';\n",
              "\n",
              "      async function convertToInteractive(key) {\n",
              "        const element = document.querySelector('#df-13a32f1e-ee55-44a1-b5eb-31e86dd35748');\n",
              "        const dataTable =\n",
              "          await google.colab.kernel.invokeFunction('convertToInteractive',\n",
              "                                                    [key], {});\n",
              "        if (!dataTable) return;\n",
              "\n",
              "        const docLinkHtml = 'Like what you see? Visit the ' +\n",
              "          '<a target=\"_blank\" href=https://colab.research.google.com/notebooks/data_table.ipynb>data table notebook</a>'\n",
              "          + ' to learn more about interactive tables.';\n",
              "        element.innerHTML = '';\n",
              "        dataTable['output_type'] = 'display_data';\n",
              "        await google.colab.output.renderOutput(dataTable, element);\n",
              "        const docLink = document.createElement('div');\n",
              "        docLink.innerHTML = docLinkHtml;\n",
              "        element.appendChild(docLink);\n",
              "      }\n",
              "    </script>\n",
              "  </div>\n",
              "\n",
              "\n",
              "    <div id=\"df-9d2cf264-0df7-449c-bb3a-49dd6cebbf84\">\n",
              "      <button class=\"colab-df-quickchart\" onclick=\"quickchart('df-9d2cf264-0df7-449c-bb3a-49dd6cebbf84')\"\n",
              "                title=\"Suggest charts\"\n",
              "                style=\"display:none;\">\n",
              "\n",
              "<svg xmlns=\"http://www.w3.org/2000/svg\" height=\"24px\"viewBox=\"0 0 24 24\"\n",
              "     width=\"24px\">\n",
              "    <g>\n",
              "        <path d=\"M19 3H5c-1.1 0-2 .9-2 2v14c0 1.1.9 2 2 2h14c1.1 0 2-.9 2-2V5c0-1.1-.9-2-2-2zM9 17H7v-7h2v7zm4 0h-2V7h2v10zm4 0h-2v-4h2v4z\"/>\n",
              "    </g>\n",
              "</svg>\n",
              "      </button>\n",
              "\n",
              "<style>\n",
              "  .colab-df-quickchart {\n",
              "      --bg-color: #E8F0FE;\n",
              "      --fill-color: #1967D2;\n",
              "      --hover-bg-color: #E2EBFA;\n",
              "      --hover-fill-color: #174EA6;\n",
              "      --disabled-fill-color: #AAA;\n",
              "      --disabled-bg-color: #DDD;\n",
              "  }\n",
              "\n",
              "  [theme=dark] .colab-df-quickchart {\n",
              "      --bg-color: #3B4455;\n",
              "      --fill-color: #D2E3FC;\n",
              "      --hover-bg-color: #434B5C;\n",
              "      --hover-fill-color: #FFFFFF;\n",
              "      --disabled-bg-color: #3B4455;\n",
              "      --disabled-fill-color: #666;\n",
              "  }\n",
              "\n",
              "  .colab-df-quickchart {\n",
              "    background-color: var(--bg-color);\n",
              "    border: none;\n",
              "    border-radius: 50%;\n",
              "    cursor: pointer;\n",
              "    display: none;\n",
              "    fill: var(--fill-color);\n",
              "    height: 32px;\n",
              "    padding: 0;\n",
              "    width: 32px;\n",
              "  }\n",
              "\n",
              "  .colab-df-quickchart:hover {\n",
              "    background-color: var(--hover-bg-color);\n",
              "    box-shadow: 0 1px 2px rgba(60, 64, 67, 0.3), 0 1px 3px 1px rgba(60, 64, 67, 0.15);\n",
              "    fill: var(--button-hover-fill-color);\n",
              "  }\n",
              "\n",
              "  .colab-df-quickchart-complete:disabled,\n",
              "  .colab-df-quickchart-complete:disabled:hover {\n",
              "    background-color: var(--disabled-bg-color);\n",
              "    fill: var(--disabled-fill-color);\n",
              "    box-shadow: none;\n",
              "  }\n",
              "\n",
              "  .colab-df-spinner {\n",
              "    border: 2px solid var(--fill-color);\n",
              "    border-color: transparent;\n",
              "    border-bottom-color: var(--fill-color);\n",
              "    animation:\n",
              "      spin 1s steps(1) infinite;\n",
              "  }\n",
              "\n",
              "  @keyframes spin {\n",
              "    0% {\n",
              "      border-color: transparent;\n",
              "      border-bottom-color: var(--fill-color);\n",
              "      border-left-color: var(--fill-color);\n",
              "    }\n",
              "    20% {\n",
              "      border-color: transparent;\n",
              "      border-left-color: var(--fill-color);\n",
              "      border-top-color: var(--fill-color);\n",
              "    }\n",
              "    30% {\n",
              "      border-color: transparent;\n",
              "      border-left-color: var(--fill-color);\n",
              "      border-top-color: var(--fill-color);\n",
              "      border-right-color: var(--fill-color);\n",
              "    }\n",
              "    40% {\n",
              "      border-color: transparent;\n",
              "      border-right-color: var(--fill-color);\n",
              "      border-top-color: var(--fill-color);\n",
              "    }\n",
              "    60% {\n",
              "      border-color: transparent;\n",
              "      border-right-color: var(--fill-color);\n",
              "    }\n",
              "    80% {\n",
              "      border-color: transparent;\n",
              "      border-right-color: var(--fill-color);\n",
              "      border-bottom-color: var(--fill-color);\n",
              "    }\n",
              "    90% {\n",
              "      border-color: transparent;\n",
              "      border-bottom-color: var(--fill-color);\n",
              "    }\n",
              "  }\n",
              "</style>\n",
              "\n",
              "      <script>\n",
              "        async function quickchart(key) {\n",
              "          const quickchartButtonEl =\n",
              "            document.querySelector('#' + key + ' button');\n",
              "          quickchartButtonEl.disabled = true;  // To prevent multiple clicks.\n",
              "          quickchartButtonEl.classList.add('colab-df-spinner');\n",
              "          try {\n",
              "            const charts = await google.colab.kernel.invokeFunction(\n",
              "                'suggestCharts', [key], {});\n",
              "          } catch (error) {\n",
              "            console.error('Error during call to suggestCharts:', error);\n",
              "          }\n",
              "          quickchartButtonEl.classList.remove('colab-df-spinner');\n",
              "          quickchartButtonEl.classList.add('colab-df-quickchart-complete');\n",
              "        }\n",
              "        (() => {\n",
              "          let quickchartButtonEl =\n",
              "            document.querySelector('#df-9d2cf264-0df7-449c-bb3a-49dd6cebbf84 button');\n",
              "          quickchartButtonEl.style.display =\n",
              "            google.colab.kernel.accessAllowed ? 'block' : 'none';\n",
              "        })();\n",
              "      </script>\n",
              "    </div>\n",
              "\n",
              "  <div id=\"id_4990b241-3018-4057-a41b-bd661d4cb327\">\n",
              "    <style>\n",
              "      .colab-df-generate {\n",
              "        background-color: #E8F0FE;\n",
              "        border: none;\n",
              "        border-radius: 50%;\n",
              "        cursor: pointer;\n",
              "        display: none;\n",
              "        fill: #1967D2;\n",
              "        height: 32px;\n",
              "        padding: 0 0 0 0;\n",
              "        width: 32px;\n",
              "      }\n",
              "\n",
              "      .colab-df-generate:hover {\n",
              "        background-color: #E2EBFA;\n",
              "        box-shadow: 0px 1px 2px rgba(60, 64, 67, 0.3), 0px 1px 3px 1px rgba(60, 64, 67, 0.15);\n",
              "        fill: #174EA6;\n",
              "      }\n",
              "\n",
              "      [theme=dark] .colab-df-generate {\n",
              "        background-color: #3B4455;\n",
              "        fill: #D2E3FC;\n",
              "      }\n",
              "\n",
              "      [theme=dark] .colab-df-generate:hover {\n",
              "        background-color: #434B5C;\n",
              "        box-shadow: 0px 1px 3px 1px rgba(0, 0, 0, 0.15);\n",
              "        filter: drop-shadow(0px 1px 2px rgba(0, 0, 0, 0.3));\n",
              "        fill: #FFFFFF;\n",
              "      }\n",
              "    </style>\n",
              "    <button class=\"colab-df-generate\" onclick=\"generateWithVariable('losses3')\"\n",
              "            title=\"Generate code using this dataframe.\"\n",
              "            style=\"display:none;\">\n",
              "\n",
              "  <svg xmlns=\"http://www.w3.org/2000/svg\" height=\"24px\"viewBox=\"0 0 24 24\"\n",
              "       width=\"24px\">\n",
              "    <path d=\"M7,19H8.4L18.45,9,17,7.55,7,17.6ZM5,21V16.75L18.45,3.32a2,2,0,0,1,2.83,0l1.4,1.43a1.91,1.91,0,0,1,.58,1.4,1.91,1.91,0,0,1-.58,1.4L9.25,21ZM18.45,9,17,7.55Zm-12,3A5.31,5.31,0,0,0,4.9,8.1,5.31,5.31,0,0,0,1,6.5,5.31,5.31,0,0,0,4.9,4.9,5.31,5.31,0,0,0,6.5,1,5.31,5.31,0,0,0,8.1,4.9,5.31,5.31,0,0,0,12,6.5,5.46,5.46,0,0,0,6.5,12Z\"/>\n",
              "  </svg>\n",
              "    </button>\n",
              "    <script>\n",
              "      (() => {\n",
              "      const buttonEl =\n",
              "        document.querySelector('#id_4990b241-3018-4057-a41b-bd661d4cb327 button.colab-df-generate');\n",
              "      buttonEl.style.display =\n",
              "        google.colab.kernel.accessAllowed ? 'block' : 'none';\n",
              "\n",
              "      buttonEl.onclick = () => {\n",
              "        google.colab.notebook.generateWithVariable('losses3');\n",
              "      }\n",
              "      })();\n",
              "    </script>\n",
              "  </div>\n",
              "\n",
              "    </div>\n",
              "  </div>\n"
            ],
            "application/vnd.google.colaboratory.intrinsic+json": {
              "type": "dataframe",
              "variable_name": "losses3",
              "summary": "{\n  \"name\": \"losses3\",\n  \"rows\": 14,\n  \"fields\": [\n    {\n      \"column\": \"accuracy\",\n      \"properties\": {\n        \"dtype\": \"number\",\n        \"std\": 0.09071956797712843,\n        \"min\": 0.6256664395332336,\n        \"max\": 0.968940794467926,\n        \"num_unique_values\": 14,\n        \"samples\": [\n          0.9663596749305725,\n          0.967582106590271,\n          0.6256664395332336\n        ],\n        \"semantic_type\": \"\",\n        \"description\": \"\"\n      }\n    },\n    {\n      \"column\": \"loss\",\n      \"properties\": {\n        \"dtype\": \"number\",\n        \"std\": 0.23440213522231507,\n        \"min\": 0.11676304042339325,\n        \"max\": 1.0025521516799927,\n        \"num_unique_values\": 14,\n        \"samples\": [\n          0.1254417598247528,\n          0.12068449705839157,\n          1.0025521516799927\n        ],\n        \"semantic_type\": \"\",\n        \"description\": \"\"\n      }\n    },\n    {\n      \"column\": \"val_accuracy\",\n      \"properties\": {\n        \"dtype\": \"number\",\n        \"std\": 0.0084901554513717,\n        \"min\": 0.9453336000442505,\n        \"max\": 0.9754354357719421,\n        \"num_unique_values\": 14,\n        \"samples\": [\n          0.9741228222846985,\n          0.9736705422401428,\n          0.9453336000442505\n        ],\n        \"semantic_type\": \"\",\n        \"description\": \"\"\n      }\n    },\n    {\n      \"column\": \"val_loss\",\n      \"properties\": {\n        \"dtype\": \"number\",\n        \"std\": 0.031850605173588425,\n        \"min\": 0.09490176290273666,\n        \"max\": 0.21142254769802094,\n        \"num_unique_values\": 14,\n        \"samples\": [\n          0.09869462996721268,\n          0.10034667700529099,\n          0.21142254769802094\n        ],\n        \"semantic_type\": \"\",\n        \"description\": \"\"\n      }\n    }\n  ]\n}"
            }
          },
          "metadata": {},
          "execution_count": 135
        }
      ]
    },
    {
      "cell_type": "code",
      "source": [
        "losses3[['accuracy','val_accuracy']].plot()"
      ],
      "metadata": {
        "colab": {
          "base_uri": "https://localhost:8080/",
          "height": 447
        },
        "id": "YoxDdyXk5urG",
        "outputId": "269eeea6-56ef-47cd-f21e-2b6412000874"
      },
      "execution_count": null,
      "outputs": [
        {
          "output_type": "execute_result",
          "data": {
            "text/plain": [
              "<Axes: >"
            ]
          },
          "metadata": {},
          "execution_count": 136
        },
        {
          "output_type": "display_data",
          "data": {
            "text/plain": [
              "<Figure size 640x480 with 1 Axes>"
            ],
            "image/png": "[encoded data removed]"
          },
          "metadata": {}
        }
      ]
    },
    {
      "cell_type": "code",
      "source": [
        "losses3[['loss','val_loss']].plot()"
      ],
      "metadata": {
        "colab": {
          "base_uri": "https://localhost:8080/",
          "height": 447
        },
        "id": "WrCEKAdS5yBb",
        "outputId": "24062985-6152-4026-dc22-b77cecbe272b"
      },
      "execution_count": null,
      "outputs": [
        {
          "output_type": "execute_result",
          "data": {
            "text/plain": [
              "<Axes: >"
            ]
          },
          "metadata": {},
          "execution_count": 137
        },
        {
          "output_type": "display_data",
          "data": {
            "text/plain": [
              "<Figure size 640x480 with 1 Axes>"
            ],
            "image/png": "[encoded data removed]"
          },
          "metadata": {}
        }
      ]
    },
    {
      "cell_type": "code",
      "source": [
        "predictions3 = model3.predict(test_images_gray)"
      ],
      "metadata": {
        "colab": {
          "base_uri": "https://localhost:8080/"
        },
        "id": "P9Cp44F453ui",
        "outputId": "9c887ceb-3cb4-4589-f4ab-eb529253b37a"
      },
      "execution_count": null,
      "outputs": [
        {
          "output_type": "stream",
          "name": "stdout",
          "text": [
            "\u001b[1m814/814\u001b[0m \u001b[32m━━━━━━━━━━━━━━━━━━━━\u001b[0m\u001b[37m\u001b[0m \u001b[1m2s\u001b[0m 2ms/step\n"
          ]
        }
      ]
    },
    {
      "cell_type": "code",
      "source": [
        "predictions3"
      ],
      "metadata": {
        "colab": {
          "base_uri": "https://localhost:8080/"
        },
        "id": "tY_5o-2M6Ecj",
        "outputId": "3bf055a1-21d3-4c2f-bcdb-a18f15cf5e73"
      },
      "execution_count": null,
      "outputs": [
        {
          "output_type": "execute_result",
          "data": {
            "text/plain": [
              "array([[2.8453124e-07, 2.8197126e-05, 8.7615354e-06, ..., 1.5913520e-05,\n",
              "        5.3405046e-07, 4.4351059e-06],\n",
              "       [8.0707914e-06, 6.1902298e-05, 9.9964201e-01, ..., 4.7926307e-05,\n",
              "        2.4544610e-05, 3.5739791e-05],\n",
              "       [6.1016585e-06, 9.9915576e-01, 2.3376668e-05, ..., 6.3453408e-05,\n",
              "        1.7735758e-05, 1.9348902e-06],\n",
              "       ...,\n",
              "       [5.8625133e-08, 8.8640722e-05, 1.0469111e-04, ..., 9.9977797e-01,\n",
              "        3.2194031e-08, 1.8442601e-05],\n",
              "       [1.5912355e-03, 4.6303289e-04, 4.1217943e-05, ..., 5.1023730e-05,\n",
              "        1.8465503e-04, 3.5647965e-05],\n",
              "       [7.2829508e-08, 1.1128939e-03, 1.3698303e-05, ..., 9.9885786e-01,\n",
              "        2.6150971e-08, 8.8013776e-06]], dtype=float32)"
            ]
          },
          "metadata": {},
          "execution_count": 139
        }
      ]
    },
    {
      "cell_type": "code",
      "source": [
        "pred3_binary = predictions3 > 0.5"
      ],
      "metadata": {
        "id": "6Ylp2bgH6FQp"
      },
      "execution_count": null,
      "outputs": []
    },
    {
      "cell_type": "code",
      "source": [
        "pred3_binary"
      ],
      "metadata": {
        "colab": {
          "base_uri": "https://localhost:8080/"
        },
        "id": "39FSGsiW6Ipl",
        "outputId": "50f9db67-116c-4efd-a1d7-1041b1ff521d"
      },
      "execution_count": null,
      "outputs": [
        {
          "output_type": "execute_result",
          "data": {
            "text/plain": [
              "array([[False, False, False, ..., False, False, False],\n",
              "       [False, False,  True, ..., False, False, False],\n",
              "       [False,  True, False, ..., False, False, False],\n",
              "       ...,\n",
              "       [False, False, False, ...,  True, False, False],\n",
              "       [False, False, False, ..., False, False, False],\n",
              "       [False, False, False, ...,  True, False, False]])"
            ]
          },
          "metadata": {},
          "execution_count": 141
        }
      ]
    },
    {
      "cell_type": "code",
      "source": [
        "pred3_class = np.argmax(predictions3, axis=1)"
      ],
      "metadata": {
        "id": "X4jB1XnU6Lt8"
      },
      "execution_count": null,
      "outputs": []
    },
    {
      "cell_type": "code",
      "source": [
        "pred3_class"
      ],
      "metadata": {
        "colab": {
          "base_uri": "https://localhost:8080/"
        },
        "id": "yRQFt1xO6NkK",
        "outputId": "90ab2e18-32cb-4f8e-e7c8-609abd56474c"
      },
      "execution_count": null,
      "outputs": [
        {
          "output_type": "execute_result",
          "data": {
            "text/plain": [
              "array([5, 2, 1, ..., 7, 6, 7])"
            ]
          },
          "metadata": {},
          "execution_count": 143
        }
      ]
    },
    {
      "cell_type": "code",
      "source": [
        "print(classification_report(test_labels,pred3_class))"
      ],
      "metadata": {
        "colab": {
          "base_uri": "https://localhost:8080/"
        },
        "id": "XEfAPIyx6PXx",
        "outputId": "03f49ce8-ed29-4721-ab9a-ad8db89cf6fd"
      },
      "execution_count": null,
      "outputs": [
        {
          "output_type": "stream",
          "name": "stdout",
          "text": [
            "              precision    recall  f1-score   support\n",
            "\n",
            "           0       0.95      0.94      0.95      1744\n",
            "           1       0.95      0.97      0.96      5099\n",
            "           2       0.97      0.96      0.97      4149\n",
            "           3       0.93      0.94      0.94      2882\n",
            "           4       0.96      0.96      0.96      2523\n",
            "           5       0.95      0.95      0.95      2384\n",
            "           6       0.94      0.94      0.94      1977\n",
            "           7       0.95      0.93      0.94      2019\n",
            "           8       0.96      0.91      0.94      1660\n",
            "           9       0.94      0.95      0.94      1595\n",
            "\n",
            "    accuracy                           0.95     26032\n",
            "   macro avg       0.95      0.95      0.95     26032\n",
            "weighted avg       0.95      0.95      0.95     26032\n",
            "\n"
          ]
        }
      ]
    },
    {
      "cell_type": "code",
      "source": [
        "confusion_matrix(test_labels,pred3_class)"
      ],
      "metadata": {
        "colab": {
          "base_uri": "https://localhost:8080/"
        },
        "id": "h2hKFfiQ6V97",
        "outputId": "86646ab5-d7c7-4903-ef6c-4ae3eb2e3266"
      },
      "execution_count": null,
      "outputs": [
        {
          "output_type": "execute_result",
          "data": {
            "text/plain": [
              "array([[1645,   16,   11,   13,    3,    7,   30,    2,    0,   17],\n",
              "       [  18, 4938,   17,   36,   41,   10,    6,   27,    3,    3],\n",
              "       [   4,   39, 3999,   22,   17,    4,    3,   47,    5,    9],\n",
              "       [   7,   27,   19, 2718,   10,   39,    8,    8,   17,   29],\n",
              "       [   6,   44,   12,   11, 2429,    4,    5,    7,    2,    3],\n",
              "       [   3,    8,    7,   59,    7, 2265,   19,    3,    5,    8],\n",
              "       [  17,   12,    9,    9,    9,   25, 1866,    2,   24,    4],\n",
              "       [   4,   99,   14,    4,    3,    3,    1, 1885,    1,    5],\n",
              "       [  10,   12,   11,   24,    9,    9,   39,    4, 1518,   24],\n",
              "       [  14,   10,   20,   13,    7,   10,    1,    1,    6, 1513]])"
            ]
          },
          "metadata": {},
          "execution_count": 145
        }
      ]
    },
    {
      "cell_type": "code",
      "source": [
        "sns.heatmap(confusion_matrix(test_labels,pred3_class),annot=True)"
      ],
      "metadata": {
        "colab": {
          "base_uri": "https://localhost:8080/",
          "height": 447
        },
        "id": "a9-mmKlO6hj2",
        "outputId": "0ec238ac-c9a3-4bdd-fa5e-d64c542ac96d"
      },
      "execution_count": null,
      "outputs": [
        {
          "output_type": "execute_result",
          "data": {
            "text/plain": [
              "<Axes: >"
            ]
          },
          "metadata": {},
          "execution_count": 146
        },
        {
          "output_type": "display_data",
          "data": {
            "text/plain": [
              "<Figure size 640x480 with 2 Axes>"
            ],
            "image/png": "[encoded data removed]"
          },
          "metadata": {}
        }
      ]
    },
    {
      "cell_type": "code",
      "source": [
        "my_number = test_images_gray[3333]"
      ],
      "metadata": {
        "id": "M4Is6lry6j4K"
      },
      "execution_count": null,
      "outputs": []
    },
    {
      "cell_type": "code",
      "source": [
        "plt.imshow(my_number.reshape(32, 32), cmap='gray')"
      ],
      "metadata": {
        "colab": {
          "base_uri": "https://localhost:8080/",
          "height": 447
        },
        "id": "OvIwc5wV6oiL",
        "outputId": "d23a04e3-d631-46b5-fb62-66f1fb1dc89c"
      },
      "execution_count": null,
      "outputs": [
        {
          "output_type": "execute_result",
          "data": {
            "text/plain": [
              "<matplotlib.image.AxesImage at 0x7abac4748f50>"
            ]
          },
          "metadata": {},
          "execution_count": 151
        },
        {
          "output_type": "display_data",
          "data": {
            "text/plain": [
              "<Figure size 640x480 with 1 Axes>"
            ],
            "image/png": "[encoded data removed]"
          },
          "metadata": {}
        }
      ]
    },
    {
      "cell_type": "code",
      "source": [
        "test_labels[3333]"
      ],
      "metadata": {
        "colab": {
          "base_uri": "https://localhost:8080/"
        },
        "id": "TRrMSDTw6wTE",
        "outputId": "920f2053-70a4-498f-fd9b-57f621ef99e0"
      },
      "execution_count": null,
      "outputs": [
        {
          "output_type": "execute_result",
          "data": {
            "text/plain": [
              "np.uint8(1)"
            ]
          },
          "metadata": {},
          "execution_count": 154
        }
      ]
    },
    {
      "cell_type": "code",
      "source": [
        "model3.predict(my_number.reshape(1, 32, 32, 1))"
      ],
      "metadata": {
        "colab": {
          "base_uri": "https://localhost:8080/"
        },
        "id": "miiBaf0p6y83",
        "outputId": "b7c28394-5828-4854-b7f5-41306860370b"
      },
      "execution_count": null,
      "outputs": [
        {
          "output_type": "stream",
          "name": "stdout",
          "text": [
            "\u001b[1m1/1\u001b[0m \u001b[32m━━━━━━━━━━━━━━━━━━━━\u001b[0m\u001b[37m\u001b[0m \u001b[1m0s\u001b[0m 381ms/step\n"
          ]
        },
        {
          "output_type": "execute_result",
          "data": {
            "text/plain": [
              "array([[4.4823580e-09, 9.9999940e-01, 1.3545171e-08, 2.2188436e-09,\n",
              "        4.0327555e-09, 9.5269472e-09, 2.9174885e-09, 5.8109066e-07,\n",
              "        2.6005411e-09, 1.9191178e-09]], dtype=float32)"
            ]
          },
          "metadata": {},
          "execution_count": 155
        }
      ]
    },
    {
      "cell_type": "code",
      "source": [
        "np.round(model3.predict(my_number.reshape(1, 32, 32, 1)), 2)"
      ],
      "metadata": {
        "colab": {
          "base_uri": "https://localhost:8080/"
        },
        "id": "3ldj8r6T697m",
        "outputId": "88555260-c71c-428f-ff6f-a37d56857dcc"
      },
      "execution_count": null,
      "outputs": [
        {
          "output_type": "stream",
          "name": "stdout",
          "text": [
            "\u001b[1m1/1\u001b[0m \u001b[32m━━━━━━━━━━━━━━━━━━━━\u001b[0m\u001b[37m\u001b[0m \u001b[1m0s\u001b[0m 33ms/step\n"
          ]
        },
        {
          "output_type": "execute_result",
          "data": {
            "text/plain": [
              "array([[0., 1., 0., 0., 0., 0., 0., 0., 0., 0.]], dtype=float32)"
            ]
          },
          "metadata": {},
          "execution_count": 156
        }
      ]
    },
    {
      "cell_type": "code",
      "source": [
        "model3.save('batch_normalization_model_full_dataset.keras')"
      ],
      "metadata": {
        "id": "X7GWlu0t7CAJ"
      },
      "execution_count": null,
      "outputs": []
    }
  ],
  "metadata": {
    "accelerator": "GPU",
    "colab": {
      "gpuType": "T4",
      "machine_shape": "hm",
      "provenance": []
    },
    "kernelspec": {
      "display_name": "Python 3",
      "name": "python3"
    },
    "language_info": {
      "codemirror_mode": {
        "name": "ipython",
        "version": 3
      },
      "file_extension": ".py",
      "mimetype": "text/x-python",
      "name": "python",
      "nbconvert_exporter": "python",
      "pygments_lexer": "ipython3",
      "version": "3.8.8"
    }
  },
  "nbformat": 4,
  "nbformat_minor": 0
}